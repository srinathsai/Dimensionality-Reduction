{
  "nbformat": 4,
  "nbformat_minor": 0,
  "metadata": {
    "colab": {
      "provenance": []
    },
    "kernelspec": {
      "name": "python3",
      "display_name": "Python 3"
    },
    "language_info": {
      "name": "python"
    }
  },
  "cells": [
    {
      "cell_type": "code",
      "execution_count": 1,
      "metadata": {
        "id": "xW-ouBbli5OA"
      },
      "outputs": [],
      "source": [
        "from sklearn.feature_extraction.text import TfidfVectorizer\n",
        "import pandas as pd"
      ]
    },
    {
      "cell_type": "markdown",
      "source": [
        "# Task-1 (Reading the text and text preprocessing)"
      ],
      "metadata": {
        "id": "L6rXST-Akk8q"
      }
    },
    {
      "cell_type": "code",
      "source": [
        "df=pd.read_excel(\"Movies_input.xlsx\") #input is read."
      ],
      "metadata": {
        "id": "FUmiUlTojOSN"
      },
      "execution_count": 2,
      "outputs": []
    },
    {
      "cell_type": "code",
      "source": [
        "df.head()"
      ],
      "metadata": {
        "colab": {
          "base_uri": "https://localhost:8080/",
          "height": 206
        },
        "id": "X7CGwKHrjnib",
        "outputId": "2072176c-d738-4895-a6e4-b2b47e08fb84"
      },
      "execution_count": 3,
      "outputs": [
        {
          "output_type": "execute_result",
          "data": {
            "text/plain": [
              "  Movie Names                                  Movie Description\n",
              "0     Kshanam  \"Kshanam\" is a gripping Telugu thriller that t...\n",
              "1       Evaru  Directed by Venkat Ramji, \"Evaru\" is a Telugu ...\n",
              "2  Goodachari  \"Goodachari\" is a Telugu spy thriller directed...\n",
              "3         Awe  \"Awe!\" is a unique Telugu thriller that blends...\n",
              "4  Anukshanam  Directed by Ram Gopal Varma, \"Anukshanam\" is a..."
            ],
            "text/html": [
              "\n",
              "  <div id=\"df-ea9df05d-431c-4cc1-9b2e-e722b581320b\" class=\"colab-df-container\">\n",
              "    <div>\n",
              "<style scoped>\n",
              "    .dataframe tbody tr th:only-of-type {\n",
              "        vertical-align: middle;\n",
              "    }\n",
              "\n",
              "    .dataframe tbody tr th {\n",
              "        vertical-align: top;\n",
              "    }\n",
              "\n",
              "    .dataframe thead th {\n",
              "        text-align: right;\n",
              "    }\n",
              "</style>\n",
              "<table border=\"1\" class=\"dataframe\">\n",
              "  <thead>\n",
              "    <tr style=\"text-align: right;\">\n",
              "      <th></th>\n",
              "      <th>Movie Names</th>\n",
              "      <th>Movie Description</th>\n",
              "    </tr>\n",
              "  </thead>\n",
              "  <tbody>\n",
              "    <tr>\n",
              "      <th>0</th>\n",
              "      <td>Kshanam</td>\n",
              "      <td>\"Kshanam\" is a gripping Telugu thriller that t...</td>\n",
              "    </tr>\n",
              "    <tr>\n",
              "      <th>1</th>\n",
              "      <td>Evaru</td>\n",
              "      <td>Directed by Venkat Ramji, \"Evaru\" is a Telugu ...</td>\n",
              "    </tr>\n",
              "    <tr>\n",
              "      <th>2</th>\n",
              "      <td>Goodachari</td>\n",
              "      <td>\"Goodachari\" is a Telugu spy thriller directed...</td>\n",
              "    </tr>\n",
              "    <tr>\n",
              "      <th>3</th>\n",
              "      <td>Awe</td>\n",
              "      <td>\"Awe!\" is a unique Telugu thriller that blends...</td>\n",
              "    </tr>\n",
              "    <tr>\n",
              "      <th>4</th>\n",
              "      <td>Anukshanam</td>\n",
              "      <td>Directed by Ram Gopal Varma, \"Anukshanam\" is a...</td>\n",
              "    </tr>\n",
              "  </tbody>\n",
              "</table>\n",
              "</div>\n",
              "    <div class=\"colab-df-buttons\">\n",
              "\n",
              "  <div class=\"colab-df-container\">\n",
              "    <button class=\"colab-df-convert\" onclick=\"convertToInteractive('df-ea9df05d-431c-4cc1-9b2e-e722b581320b')\"\n",
              "            title=\"Convert this dataframe to an interactive table.\"\n",
              "            style=\"display:none;\">\n",
              "\n",
              "  <svg xmlns=\"http://www.w3.org/2000/svg\" height=\"24px\" viewBox=\"0 -960 960 960\">\n",
              "    <path d=\"M120-120v-720h720v720H120Zm60-500h600v-160H180v160Zm220 220h160v-160H400v160Zm0 220h160v-160H400v160ZM180-400h160v-160H180v160Zm440 0h160v-160H620v160ZM180-180h160v-160H180v160Zm440 0h160v-160H620v160Z\"/>\n",
              "  </svg>\n",
              "    </button>\n",
              "\n",
              "  <style>\n",
              "    .colab-df-container {\n",
              "      display:flex;\n",
              "      gap: 12px;\n",
              "    }\n",
              "\n",
              "    .colab-df-convert {\n",
              "      background-color: #E8F0FE;\n",
              "      border: none;\n",
              "      border-radius: 50%;\n",
              "      cursor: pointer;\n",
              "      display: none;\n",
              "      fill: #1967D2;\n",
              "      height: 32px;\n",
              "      padding: 0 0 0 0;\n",
              "      width: 32px;\n",
              "    }\n",
              "\n",
              "    .colab-df-convert:hover {\n",
              "      background-color: #E2EBFA;\n",
              "      box-shadow: 0px 1px 2px rgba(60, 64, 67, 0.3), 0px 1px 3px 1px rgba(60, 64, 67, 0.15);\n",
              "      fill: #174EA6;\n",
              "    }\n",
              "\n",
              "    .colab-df-buttons div {\n",
              "      margin-bottom: 4px;\n",
              "    }\n",
              "\n",
              "    [theme=dark] .colab-df-convert {\n",
              "      background-color: #3B4455;\n",
              "      fill: #D2E3FC;\n",
              "    }\n",
              "\n",
              "    [theme=dark] .colab-df-convert:hover {\n",
              "      background-color: #434B5C;\n",
              "      box-shadow: 0px 1px 3px 1px rgba(0, 0, 0, 0.15);\n",
              "      filter: drop-shadow(0px 1px 2px rgba(0, 0, 0, 0.3));\n",
              "      fill: #FFFFFF;\n",
              "    }\n",
              "  </style>\n",
              "\n",
              "    <script>\n",
              "      const buttonEl =\n",
              "        document.querySelector('#df-ea9df05d-431c-4cc1-9b2e-e722b581320b button.colab-df-convert');\n",
              "      buttonEl.style.display =\n",
              "        google.colab.kernel.accessAllowed ? 'block' : 'none';\n",
              "\n",
              "      async function convertToInteractive(key) {\n",
              "        const element = document.querySelector('#df-ea9df05d-431c-4cc1-9b2e-e722b581320b');\n",
              "        const dataTable =\n",
              "          await google.colab.kernel.invokeFunction('convertToInteractive',\n",
              "                                                    [key], {});\n",
              "        if (!dataTable) return;\n",
              "\n",
              "        const docLinkHtml = 'Like what you see? Visit the ' +\n",
              "          '<a target=\"_blank\" href=https://colab.research.google.com/notebooks/data_table.ipynb>data table notebook</a>'\n",
              "          + ' to learn more about interactive tables.';\n",
              "        element.innerHTML = '';\n",
              "        dataTable['output_type'] = 'display_data';\n",
              "        await google.colab.output.renderOutput(dataTable, element);\n",
              "        const docLink = document.createElement('div');\n",
              "        docLink.innerHTML = docLinkHtml;\n",
              "        element.appendChild(docLink);\n",
              "      }\n",
              "    </script>\n",
              "  </div>\n",
              "\n",
              "\n",
              "<div id=\"df-f0002671-bbbf-45e5-bbff-10e4bae48710\">\n",
              "  <button class=\"colab-df-quickchart\" onclick=\"quickchart('df-f0002671-bbbf-45e5-bbff-10e4bae48710')\"\n",
              "            title=\"Suggest charts.\"\n",
              "            style=\"display:none;\">\n",
              "\n",
              "<svg xmlns=\"http://www.w3.org/2000/svg\" height=\"24px\"viewBox=\"0 0 24 24\"\n",
              "     width=\"24px\">\n",
              "    <g>\n",
              "        <path d=\"M19 3H5c-1.1 0-2 .9-2 2v14c0 1.1.9 2 2 2h14c1.1 0 2-.9 2-2V5c0-1.1-.9-2-2-2zM9 17H7v-7h2v7zm4 0h-2V7h2v10zm4 0h-2v-4h2v4z\"/>\n",
              "    </g>\n",
              "</svg>\n",
              "  </button>\n",
              "\n",
              "<style>\n",
              "  .colab-df-quickchart {\n",
              "      --bg-color: #E8F0FE;\n",
              "      --fill-color: #1967D2;\n",
              "      --hover-bg-color: #E2EBFA;\n",
              "      --hover-fill-color: #174EA6;\n",
              "      --disabled-fill-color: #AAA;\n",
              "      --disabled-bg-color: #DDD;\n",
              "  }\n",
              "\n",
              "  [theme=dark] .colab-df-quickchart {\n",
              "      --bg-color: #3B4455;\n",
              "      --fill-color: #D2E3FC;\n",
              "      --hover-bg-color: #434B5C;\n",
              "      --hover-fill-color: #FFFFFF;\n",
              "      --disabled-bg-color: #3B4455;\n",
              "      --disabled-fill-color: #666;\n",
              "  }\n",
              "\n",
              "  .colab-df-quickchart {\n",
              "    background-color: var(--bg-color);\n",
              "    border: none;\n",
              "    border-radius: 50%;\n",
              "    cursor: pointer;\n",
              "    display: none;\n",
              "    fill: var(--fill-color);\n",
              "    height: 32px;\n",
              "    padding: 0;\n",
              "    width: 32px;\n",
              "  }\n",
              "\n",
              "  .colab-df-quickchart:hover {\n",
              "    background-color: var(--hover-bg-color);\n",
              "    box-shadow: 0 1px 2px rgba(60, 64, 67, 0.3), 0 1px 3px 1px rgba(60, 64, 67, 0.15);\n",
              "    fill: var(--button-hover-fill-color);\n",
              "  }\n",
              "\n",
              "  .colab-df-quickchart-complete:disabled,\n",
              "  .colab-df-quickchart-complete:disabled:hover {\n",
              "    background-color: var(--disabled-bg-color);\n",
              "    fill: var(--disabled-fill-color);\n",
              "    box-shadow: none;\n",
              "  }\n",
              "\n",
              "  .colab-df-spinner {\n",
              "    border: 2px solid var(--fill-color);\n",
              "    border-color: transparent;\n",
              "    border-bottom-color: var(--fill-color);\n",
              "    animation:\n",
              "      spin 1s steps(1) infinite;\n",
              "  }\n",
              "\n",
              "  @keyframes spin {\n",
              "    0% {\n",
              "      border-color: transparent;\n",
              "      border-bottom-color: var(--fill-color);\n",
              "      border-left-color: var(--fill-color);\n",
              "    }\n",
              "    20% {\n",
              "      border-color: transparent;\n",
              "      border-left-color: var(--fill-color);\n",
              "      border-top-color: var(--fill-color);\n",
              "    }\n",
              "    30% {\n",
              "      border-color: transparent;\n",
              "      border-left-color: var(--fill-color);\n",
              "      border-top-color: var(--fill-color);\n",
              "      border-right-color: var(--fill-color);\n",
              "    }\n",
              "    40% {\n",
              "      border-color: transparent;\n",
              "      border-right-color: var(--fill-color);\n",
              "      border-top-color: var(--fill-color);\n",
              "    }\n",
              "    60% {\n",
              "      border-color: transparent;\n",
              "      border-right-color: var(--fill-color);\n",
              "    }\n",
              "    80% {\n",
              "      border-color: transparent;\n",
              "      border-right-color: var(--fill-color);\n",
              "      border-bottom-color: var(--fill-color);\n",
              "    }\n",
              "    90% {\n",
              "      border-color: transparent;\n",
              "      border-bottom-color: var(--fill-color);\n",
              "    }\n",
              "  }\n",
              "</style>\n",
              "\n",
              "  <script>\n",
              "    async function quickchart(key) {\n",
              "      const quickchartButtonEl =\n",
              "        document.querySelector('#' + key + ' button');\n",
              "      quickchartButtonEl.disabled = true;  // To prevent multiple clicks.\n",
              "      quickchartButtonEl.classList.add('colab-df-spinner');\n",
              "      try {\n",
              "        const charts = await google.colab.kernel.invokeFunction(\n",
              "            'suggestCharts', [key], {});\n",
              "      } catch (error) {\n",
              "        console.error('Error during call to suggestCharts:', error);\n",
              "      }\n",
              "      quickchartButtonEl.classList.remove('colab-df-spinner');\n",
              "      quickchartButtonEl.classList.add('colab-df-quickchart-complete');\n",
              "    }\n",
              "    (() => {\n",
              "      let quickchartButtonEl =\n",
              "        document.querySelector('#df-f0002671-bbbf-45e5-bbff-10e4bae48710 button');\n",
              "      quickchartButtonEl.style.display =\n",
              "        google.colab.kernel.accessAllowed ? 'block' : 'none';\n",
              "    })();\n",
              "  </script>\n",
              "</div>\n",
              "\n",
              "    </div>\n",
              "  </div>\n"
            ]
          },
          "metadata": {},
          "execution_count": 3
        }
      ]
    },
    {
      "cell_type": "code",
      "source": [
        "df_description = df[\"Movie Description\"]"
      ],
      "metadata": {
        "id": "k4EC_m8VjpfW"
      },
      "execution_count": 4,
      "outputs": []
    },
    {
      "cell_type": "code",
      "source": [
        "num_of_documents = df_description.shape[0]\n",
        "print(num_of_documents)"
      ],
      "metadata": {
        "colab": {
          "base_uri": "https://localhost:8080/"
        },
        "id": "IlPhDrprkGqF",
        "outputId": "bfdb5904-b757-42c2-f594-d469adf3088c"
      },
      "execution_count": 5,
      "outputs": [
        {
          "output_type": "stream",
          "name": "stdout",
          "text": [
            "15\n"
          ]
        }
      ]
    },
    {
      "cell_type": "code",
      "source": [
        "vectorizer = TfidfVectorizer()\n",
        "X = vectorizer.fit_transform(df_description)  # ref link for getting tf-idf matrix for a dataframe :- https://www.includehelp.com/python/how-to-get-tfidf-with-pandas-dataframe.aspx"
      ],
      "metadata": {
        "id": "Ianz7zxykMiK"
      },
      "execution_count": 6,
      "outputs": []
    },
    {
      "cell_type": "code",
      "source": [
        "print(vectorizer.get_feature_names_out())\n"
      ],
      "metadata": {
        "colab": {
          "base_uri": "https://localhost:8080/"
        },
        "id": "P5RX_e9UlN02",
        "outputId": "a4ade6c3-59ef-438b-96b6-1fafed95acac"
      },
      "execution_count": 7,
      "outputs": [
        {
          "output_type": "stream",
          "name": "stdout",
          "text": [
            "['abhinav' 'abhiram' 'abhishek' 'abilities' 'ability' 'about' 'accidental'\n",
            " 'acclaim' 'accused' 'action' 'actions' 'activities' 'actor' 'actors'\n",
            " 'adah' 'add' 'adding' 'additionally' 'adds' 'adivi' 'adrenaline'\n",
            " 'adulthood' 'adults' 'adventure' 'adversaries' 'after' 'against' 'agency'\n",
            " 'ages' 'aggarwal' 'aggressive' 'agility' 'aithe' 'ajay' 'akkineni' 'all'\n",
            " 'also' 'ambiguity' 'ambitions' 'ambitious' 'amidst' 'among' 'an'\n",
            " 'anasuya' 'and' 'another' 'antagonist' 'anukshanam' 'apart' 'appeal'\n",
            " 'appealing' 'appeals' 'approach' 'approaches' 'are' 'around' 'arranging'\n",
            " 'as' 'aspects' 'aspirations' 'aspires' 'aspiring' 'assigned' 'at'\n",
            " 'athili' 'atmosphere' 'audacious' 'audience' 'audiences' 'authenticity'\n",
            " 'aversion' 'away' 'awe' 'babu' 'balanced' 'balances' 'battle' 'be'\n",
            " 'became' 'become' 'becomes' 'before' 'begin' 'believable' 'beloved'\n",
            " 'bendre' 'benefits' 'best' 'between' 'bharadwaj' 'bharani' 'bhascker'\n",
            " 'bhaskar' 'blend' 'blends' 'blurred' 'bommarillu' 'both' 'brahmanandam'\n",
            " 'brilliance' 'brilliant' 'bring' 'bringing' 'buddy' 'built' 'businessman'\n",
            " 'but' 'by' 'bystander' 'cable' 'camaraderie' 'can' 'capture' 'captures'\n",
            " 'capturing' 'career' 'carefree' 'case' 'cassandra' 'cast' 'catch'\n",
            " 'catchy' 'caters' 'celebrates' 'centers' 'challenges' 'chandra' 'change'\n",
            " 'character' 'characters' 'charged' 'charisma' 'charismatic' 'charm'\n",
            " 'charming' 'chef' 'chemistry' 'child' 'chitra' 'choices' 'choopulu'\n",
            " 'choreographed' 'cinema' 'cinematic' 'cinematography' 'class' 'classic'\n",
            " 'cleanse' 'clever' 'coaster' 'combines' 'combining' 'comedy' 'comes'\n",
            " 'comic' 'comical' 'commercial' 'commitment' 'compelling' 'complex'\n",
            " 'complexities' 'complexity' 'confronts' 'consequences' 'contemporary'\n",
            " 'continues' 'contribute' 'contributes' 'control' 'conventional'\n",
            " 'conventions' 'converge' 'conveys' 'convincing' 'convincingly' 'cop'\n",
            " 'corner' 'corrupt' 'couple' 'covert' 'crafted' 'create' 'creating'\n",
            " 'creative' 'creativity' 'credits' 'crime' 'criminal' 'criminals'\n",
            " 'critical' 'daggubati' 'dance' 'dangerous' 'daring' 'darkest' 'daughter'\n",
            " 'deception' 'decide' 'dedication' 'deeper' 'defies' 'delightful'\n",
            " 'deliver' 'delivering' 'delivers' 'delves' 'depicting' 'depravity'\n",
            " 'depth' 'depths' 'desire' 'deter' 'determination' 'determined'\n",
            " 'devarakonda' 'developed' 'development' 'dhaassyam' 'dhulipala'\n",
            " 'dialogues' 'different' 'dilemmas' 'directed' 'direction' 'disappearance'\n",
            " 'disdain' 'disturbed' 'diverse' 'doesn' 'dookudu' 'dose' 'drama'\n",
            " 'dramatic' 'drawn' 'dream' 'dreams' 'drishyam' 'driven' 'driving' 'dual'\n",
            " 'due' 'during' 'duty' 'dynamics' 'each' 'eager' 'easygoing' 'edge' 'ee'\n",
            " 'eega' 'effectively' 'effects' 'elements' 'elusive' 'emaindi' 'embark'\n",
            " 'embodying' 'embroiled' 'emotion' 'emotional' 'emotionally' 'emotions'\n",
            " 'empathize' 'encourages' 'end' 'endearing' 'energetic' 'enforcement'\n",
            " 'engaged' 'engaging' 'engrossed' 'enhance' 'enhancing' 'enigmatic'\n",
            " 'ensemble' 'ensues' 'ensures' 'entertainer' 'entertaining'\n",
            " 'entertainment' 'enthusiasts' 'equally' 'espionage' 'essence' 'evaru'\n",
            " 'events' 'every' 'everyday' 'ex' 'exceptionally' 'executed' 'experience'\n",
            " 'experiences' 'expertly' 'exploration' 'explore' 'explores' 'exploring'\n",
            " 'face' 'faced' 'family' 'fans' 'fantastic' 'fantasy' 'father' 'favorite'\n",
            " 'features' 'feel' 'feelings' 'filled' 'film' 'final' 'find' 'finding'\n",
            " 'finest' 'fly' 'focus' 'following' 'follows' 'for' 'four' 'free'\n",
            " 'freedom' 'friends' 'friendship' 'from' 'gangster' 'garnered' 'gathering'\n",
            " 'gautam' 'genelia' 'genre' 'genres' 'genuine' 'genuinely' 'getting'\n",
            " 'girlfriend' 'giving' 'go' 'goa' 'goals' 'gomatam' 'good' 'goodachari'\n",
            " 'gopal' 'gopi' 'gopichand' 'gradually' 'gray' 'greed' 'grim' 'gripping'\n",
            " 'gritty' 'grounded' 'group' 'guessing' 'haasan' 'harika' 'harsh' 'harsha'\n",
            " 'has' 'hasini' 'he' 'heart' 'hearted' 'heartfelt' 'heartwarming' 'help'\n",
            " 'her' 'high' 'highlight' 'highly' 'hilarious' 'him' 'hires' 'his'\n",
            " 'housefly' 'however' 'human' 'humor' 'humorous' 'husband' 'identify'\n",
            " 'impact' 'impeccable' 'importance' 'impressive' 'in' 'including'\n",
            " 'incorporates' 'independence' 'india' 'indian' 'individuality'\n",
            " 'individuals' 'influential' 'innovation' 'innovative' 'inspector'\n",
            " 'intelligence' 'intelligent' 'intense' 'interactions' 'interconnected'\n",
            " 'intertwine' 'intertwining' 'into' 'intricacies' 'intricate' 'intrigue'\n",
            " 'intriguing' 'introduces' 'introspection' 'investigation'\n",
            " 'investigations' 'investigator' 'involving' 'is' 'it' 'its' 'jeethu'\n",
            " 'joins' 'joseph' 'journey' 'joy' 'judgments' 'just' 'justice' 'jyothi'\n",
            " 'kajal' 'kakumanu' 'karthik' 'katari' 'kaushik' 'keep' 'keeping' 'keeps'\n",
            " 'kept' 'key' 'kidnapping' 'killer' 'killers' 'killing' 'kiran' 'knack'\n",
            " 'known' 'krack' 'krishna' 'kshanam' 'kumar' 'laughing' 'laughs'\n",
            " 'laughter' 'law' 'layer' 'layers' 'lead' 'leading' 'leave' 'lengths'\n",
            " 'levity' 'lies' 'life' 'light' 'lighthearted' 'like' 'limits' 'line'\n",
            " 'linear' 'liners' 'lines' 'lingers' 'lives' 'long' 'love' 'loved'\n",
            " 'loyalty' 'made' 'mahesh' 'maintained' 'maintaining' 'major' 'make'\n",
            " 'makes' 'making' 'malineni' 'man' 'manchu' 'manmadhudu' 'manner' 'many'\n",
            " 'marriage' 'masterfully' 'matter' 'meena' 'meeting' 'meets' 'memorable'\n",
            " 'menen' 'methods' 'meticulous' 'middle' 'mind' 'missing' 'mission'\n",
            " 'misunderstandings' 'moidu' 'moments' 'moral' 'morality' 'movie'\n",
            " 'multiple' 'murali' 'murder' 'music' 'must' 'mysteries' 'mysterious'\n",
            " 'mystery' 'nadia' 'nagaraniki' 'nagarjuna' 'nani' 'narayan' 'narrative'\n",
            " 'narratives' 'navdeep' 'naveen' 'navigate' 'navigating' 'new' 'newfound'\n",
            " 'nithya' 'non' 'norms' 'not' 'notable' 'noteworthy' 'notorious'\n",
            " 'obsession' 'octane' 'of' 'off' 'offers' 'officer' 'on' 'one' 'ones'\n",
            " 'operation' 'operations' 'operator' 'ordinary' 'other' 'others' 'out'\n",
            " 'outsmart' 'outwits' 'overall' 'overbearing' 'overprotective' 'own'\n",
            " 'package' 'packed' 'palpable' 'parent' 'parenting' 'parents' 'partner'\n",
            " 'passions' 'patriarch' 'paving' 'pelli' 'people' 'perceptions' 'perepu'\n",
            " 'perfect' 'performance' 'performances' 'perilous' 'perseverance' 'person'\n",
            " 'persona' 'personal' 'perspectives' 'played' 'playing' 'plays' 'plot'\n",
            " 'police' 'policing' 'politicians' 'portrayal' 'portrayed' 'portraying'\n",
            " 'portrays' 'pose' 'possibilities' 'potential' 'potharaju' 'power'\n",
            " 'powerful' 'powerhouse' 'prakash' 'prasanth' 'precision' 'predicaments'\n",
            " 'predominantly' 'premise' 'presence' 'pretend' 'preys' 'primarily'\n",
            " 'prime' 'procedures' 'production' 'progresses' 'protagonist' 'protect'\n",
            " 'provides' 'providing' 'psyche' 'psychological' 'pursue' 'pursuing'\n",
            " 'pursuit' 'pushed' 'puzzle' 'quality' 'question' 'quirks' 'races' 'raj'\n",
            " 'rajamouli' 'rajesh' 'ram' 'rambabu' 'ramji' 'rane' 'rathod' 'ravi'\n",
            " 'ravikanth' 'raw' 'realistic' 'realities' 'received' 'recent' 'recruit'\n",
            " 'reddy' 'refreshing' 'regina' 'reincarnated' 'relatable' 'relationship'\n",
            " 'relationships' 'relentless' 'relies' 'remarkable' 'resonated'\n",
            " 'resonates' 'resorting' 'respecting' 'restaurant' 'revathi' 'revelation'\n",
            " 'revelations' 'revenge' 'revolves' 'ride' 'right' 'rishi' 'ritu' 'road'\n",
            " 'role' 'roles' 'roll' 'roller' 'romance' 'rooted' 'ruthless' 'sacrifice'\n",
            " 'sacrifices' 'sameera' 'samuthirakani' 'sarathkumar' 'sashi' 'sathi'\n",
            " 'satisfying' 'satyam' 'screen' 'screenplay' 'seamlessly' 'seasoned'\n",
            " 'seat' 'secrets' 'seek' 'seeks' 'seemingly' 'sekhar' 'sen' 'sense'\n",
            " 'sequences' 'serial' 'series' 'sesh' 'sets' 'shades' 'shankar' 'share'\n",
            " 'sharma' 'sharp' 'shines' 'shocking' 'showcases' 'showcasing' 'shruti'\n",
            " 'shweta' 'shy' 'siddharth' 'siddu' 'sincere' 'single' 'situational'\n",
            " 'situations' 'skeptical' 'skill' 'slapstick' 'slowly' 'small' 'smothered'\n",
            " 'sobhita' 'solving' 'son' 'sonali' 'songs' 'soundtrack' 'souza' 'spend'\n",
            " 'spirit' 'spirited' 'spy' 'srinu' 'stakes' 'stand' 'standout' 'starring'\n",
            " 'stars' 'start' 'stellar' 'stood' 'stories' 'story' 'storyline'\n",
            " 'storytelling' 'strengths' 'strong' 'structure' 'struggles' 'subject'\n",
            " 'success' 'successful' 'sudeep' 'summary' 'supernatural' 'supporting'\n",
            " 'supriya' 'surprising' 'surreal' 'sushanth' 'suspects' 'suspense'\n",
            " 'suspenseful' 'system' 'take' 'taken' 'takes' 'tanikella' 'tasked' 'taut'\n",
            " 'technical' 'teja' 'tells' 'telugu' 'tension' 'test' 'testament' 'tharun'\n",
            " 'that' 'the' 'their' 'themes' 'themselves' 'they' 'thief' 'think' 'this'\n",
            " 'those' 'thriller' 'thrillers' 'thrilling' 'throughout' 'tight' 'tikka'\n",
            " 'time' 'timelines' 'timing' 'titular' 'to' 'together' 'tough'\n",
            " 'traditional' 'transformation' 'transforms' 'transition' 'trip' 'trust'\n",
            " 'truth' 'trying' 'tumultuous' 'turmoil' 'turn' 'turns' 'twists'\n",
            " 'uncovers' 'undergoes' 'understand' 'understanding' 'unexpected'\n",
            " 'unfolds' 'unique' 'universally' 'unorthodox' 'unravel' 'until'\n",
            " 'unwavering' 'unwittingly' 'unyielding' 'upendra' 'urgency' 'us' 'uses'\n",
            " 'vaitla' 'value' 'values' 'varalaxmi' 'vardhan' 'various' 'varma'\n",
            " 'vasudev' 'veera' 'venkat' 'venkatesh' 'versatility' 'very' 'viewer'\n",
            " 'viewers' 'viewing' 'vigilantism' 'vijay' 'vijaya' 'vikram'\n",
            " 'vikramarkudu' 'villain' 'vishnu' 'vishwak' 'visual' 'vivek' 'voice'\n",
            " 'watch' 'wave' 'way' 'weaves' 'web' 'wedding' 'well' 'what' 'when'\n",
            " 'where' 'which' 'while' 'whirlwind' 'who' 'wide' 'wife' 'will'\n",
            " 'willingness' 'with' 'without' 'wits' 'witty' 'woman' 'women' 'world'\n",
            " 'would' 'wrong' 'yarlagadda' 'yeleti' 'yet' 'you' 'young' 'your' 'youth']\n"
          ]
        }
      ]
    },
    {
      "cell_type": "code",
      "source": [],
      "metadata": {
        "id": "Ey4pye9zYaDG"
      },
      "execution_count": 7,
      "outputs": []
    },
    {
      "cell_type": "code",
      "source": [
        "print(type(X))"
      ],
      "metadata": {
        "colab": {
          "base_uri": "https://localhost:8080/"
        },
        "id": "6DY5SzLBlOki",
        "outputId": "c479d3b6-9a6c-4dbb-8f8d-bc070e0d1c5b"
      },
      "execution_count": 8,
      "outputs": [
        {
          "output_type": "stream",
          "name": "stdout",
          "text": [
            "<class 'scipy.sparse._csr.csr_matrix'>\n"
          ]
        }
      ]
    },
    {
      "cell_type": "code",
      "source": [
        "print(\"Result\",X.toarray())"
      ],
      "metadata": {
        "colab": {
          "base_uri": "https://localhost:8080/"
        },
        "id": "_ZcFClYBlm-C",
        "outputId": "91d1d8c8-b7e0-43dc-ff19-91312961cb20"
      },
      "execution_count": 9,
      "outputs": [
        {
          "output_type": "stream",
          "name": "stdout",
          "text": [
            "Result [[0.         0.         0.         ... 0.         0.05269869 0.        ]\n",
            " [0.         0.         0.         ... 0.         0.09804094 0.        ]\n",
            " [0.         0.         0.         ... 0.03681946 0.         0.        ]\n",
            " ...\n",
            " [0.         0.         0.         ... 0.         0.         0.        ]\n",
            " [0.         0.         0.         ... 0.         0.         0.        ]\n",
            " [0.         0.         0.1034359  ... 0.         0.         0.        ]]\n"
          ]
        }
      ]
    },
    {
      "cell_type": "code",
      "source": [
        "print(X.shape)"
      ],
      "metadata": {
        "colab": {
          "base_uri": "https://localhost:8080/"
        },
        "id": "9_NHwypLmMVZ",
        "outputId": "0a195cc0-1322-4083-fc86-43a64a8fa9e1"
      },
      "execution_count": 10,
      "outputs": [
        {
          "output_type": "stream",
          "name": "stdout",
          "text": [
            "(15, 901)\n"
          ]
        }
      ]
    },
    {
      "cell_type": "code",
      "source": [
        "from sklearn.preprocessing import StandardScaler\n",
        "scaler = StandardScaler(with_mean=False) # https://scikit-learn.org/stable/modules/generated/sklearn.preprocessing.StandardScaler.html#examples-using-sklearn-preprocessing-standardscaler referred this link which is a Scikit-learn module that standardizes with subtracting mean and dividing by standard deviation of feature x.\n",
        "X_standardized = scaler.fit_transform(X)  #We use with_mean= False for sparse matriz because of the reason in this link :- https://stackoverflow.com/questions/52008548/python-running-into-x-test-y-test-fit-errors which states that If True, then the data should be centered before scaling it. However, this approach is not suitable for sparse matrices because centering them involves creating a dense matrix, which in many typical scenarios, could be too large to be stored in memory, leading to an error."
      ],
      "metadata": {
        "id": "_ATkdkhwtSrV"
      },
      "execution_count": 11,
      "outputs": []
    },
    {
      "cell_type": "code",
      "source": [
        "print(\"Result\",X_standardized.toarray())"
      ],
      "metadata": {
        "colab": {
          "base_uri": "https://localhost:8080/"
        },
        "id": "bLheasnJv_I0",
        "outputId": "0d5870c4-2ad1-420d-efd1-f4845d9cacbf"
      },
      "execution_count": 12,
      "outputs": [
        {
          "output_type": "stream",
          "name": "stdout",
          "text": [
            "Result [[0.         0.         0.         ... 0.         1.83307639 0.        ]\n",
            " [0.         0.         0.         ... 0.         3.41026553 0.        ]\n",
            " [0.         0.         0.         ... 0.97264884 0.         0.        ]\n",
            " ...\n",
            " [0.         0.         0.         ... 0.         0.         0.        ]\n",
            " [0.         0.         0.         ... 0.         0.         0.        ]\n",
            " [0.         0.         4.00891863 ... 0.         0.         0.        ]]\n"
          ]
        }
      ]
    },
    {
      "cell_type": "markdown",
      "source": [
        "# Task-2 (PCA Implementation)"
      ],
      "metadata": {
        "id": "W3bVKM4Pyc29"
      }
    },
    {
      "cell_type": "code",
      "source": [
        "from sklearn.decomposition import PCA\n",
        "pca = PCA() # without mentioning any components"
      ],
      "metadata": {
        "id": "T6-ubgo7wjul"
      },
      "execution_count": 13,
      "outputs": []
    },
    {
      "cell_type": "code",
      "source": [
        "X_standardized_array = X_standardized.toarray() # we can't apply directly to sparse matrix there fore it must be converted to array first.\n",
        "\n"
      ],
      "metadata": {
        "id": "_22nq6s8Ql8H"
      },
      "execution_count": 14,
      "outputs": []
    },
    {
      "cell_type": "code",
      "source": [
        "X_pca = pca.fit(X_standardized_array) #only fitting the model without transforming."
      ],
      "metadata": {
        "id": "3AGgl-ADtWNb"
      },
      "execution_count": 15,
      "outputs": []
    },
    {
      "cell_type": "code",
      "source": [
        "print(X_pca)"
      ],
      "metadata": {
        "colab": {
          "base_uri": "https://localhost:8080/"
        },
        "id": "arQoat0DSEfx",
        "outputId": "afb1c403-b59f-4707-d46f-ef706b08d4d7"
      },
      "execution_count": 16,
      "outputs": [
        {
          "output_type": "stream",
          "name": "stdout",
          "text": [
            "PCA()\n"
          ]
        }
      ]
    },
    {
      "cell_type": "markdown",
      "source": [
        "### Exploring various attributes and methods of traditional PCA."
      ],
      "metadata": {
        "id": "7eun6xScZwG4"
      }
    },
    {
      "cell_type": "code",
      "source": [
        "components = pca.components_\n",
        "print(components) # you will be getting default components as initially none is given.\n",
        "print(len(components))"
      ],
      "metadata": {
        "colab": {
          "base_uri": "https://localhost:8080/"
        },
        "id": "B7orda3Yanyv",
        "outputId": "050dadcc-9f8c-48ef-8463-1d9a0ac85367"
      },
      "execution_count": 17,
      "outputs": [
        {
          "output_type": "stream",
          "name": "stdout",
          "text": [
            "[[ 0.03793537 -0.00329927 -0.00353543 ...  0.07089891 -0.07376078\n",
            "   0.03793537]\n",
            " [ 0.02654992 -0.0294384  -0.00908518 ...  0.06015757  0.04340838\n",
            "   0.02654992]\n",
            " [-0.01384369  0.06305625 -0.01033069 ... -0.01123276 -0.02687195\n",
            "  -0.01384369]\n",
            " ...\n",
            " [ 0.0016166  -0.00859262 -0.06906818 ... -0.01795566  0.0106269\n",
            "   0.0016166 ]\n",
            " [ 0.00127984 -0.00109929 -0.01920692 ...  0.00744939  0.00327445\n",
            "   0.00127984]\n",
            " [-0.29923851 -0.31581922  0.36878862 ... -0.00572123 -0.00226313\n",
            "   0.00303741]]\n",
            "15\n"
          ]
        }
      ]
    },
    {
      "cell_type": "code",
      "source": [
        "pca_mean = pca.mean_\n",
        "print(len(pca_mean)) # this attribute is the mean of every feature in original data calculated during fitting.\n",
        "print(pca_mean)"
      ],
      "metadata": {
        "colab": {
          "base_uri": "https://localhost:8080/"
        },
        "id": "KbazuOLXbM3y",
        "outputId": "51380b1a-eeda-4db3-f77f-696aebf76973"
      },
      "execution_count": 18,
      "outputs": [
        {
          "output_type": "stream",
          "name": "stdout",
          "text": [
            "901\n",
            "[0.26726124 0.26726124 0.26726124 0.26726124 0.39005346 0.26726124\n",
            " 0.26726124 0.38886585 0.26726124 0.58581415 0.26726124 0.26726124\n",
            " 0.4988151  0.38291121 0.26726124 0.67115994 0.6024153  0.26726124\n",
            " 0.80571395 0.49950604 0.26726124 0.26726124 0.39193505 0.26726124\n",
            " 0.26726124 0.26726124 0.59898114 0.26726124 0.26726124 0.26726124\n",
            " 0.26726124 0.26726124 0.26726124 0.26726124 0.26726124 0.39182204\n",
            " 0.71650479 0.26726124 0.26726124 0.26726124 0.26726124 0.26726124\n",
            " 0.76166536 0.26726124 6.16016222 0.26726124 0.26726124 0.26726124\n",
            " 2.36189092 0.39129029 0.26726124 0.26726124 0.26726124 0.26726124\n",
            " 1.48531169 0.69616543 0.26726124 1.89435039 0.26726124 0.39193505\n",
            " 0.26726124 0.26726124 0.26726124 0.26726124 0.26726124 0.26726124\n",
            " 0.26726124 1.47288834 0.26726124 0.60085273 0.26726124 0.39038744\n",
            " 0.26726124 0.39210361 0.26726124 0.26726124 0.26726124 0.39223227\n",
            " 0.26726124 0.26726124 0.35633232 0.26726124 0.26726124 0.26726124\n",
            " 0.26726124 0.26726124 0.39193671 0.26726124 0.59810503 0.26726124\n",
            " 0.26726124 0.373244   0.39218302 0.60018322 0.26726124 0.26726124\n",
            " 0.26726124 0.59690108 0.39080549 0.38639733 0.26726124 0.49667853\n",
            " 0.3917352  0.26726124 0.26726124 0.38961057 0.26726124 2.05873982\n",
            " 0.26726124 0.26726124 0.26726124 0.26726124 0.26726124 0.26726124\n",
            " 0.49960857 0.26726124 0.38912544 0.39195584 0.3906851  1.09488067\n",
            " 0.26726124 0.26726124 0.26726124 0.39193505 0.26726124 0.61642558\n",
            " 0.37971329 0.26726124 1.23360241 0.77066252 0.26726124 0.26726124\n",
            " 0.48057163 0.26726124 0.26726124 0.26726124 0.39223227 0.26726124\n",
            " 0.26726124 0.39223227 0.26726124 0.26726124 1.00350999 0.53876197\n",
            " 0.49950604 0.26726124 0.3768113  0.26726124 0.39152656 0.39222807\n",
            " 0.67611475 0.26726124 0.7629098  0.26726124 0.26726124 0.39080549\n",
            " 0.38886585 0.26726124 0.48435949 0.26726124 0.26726124 0.26726124\n",
            " 0.26726124 0.37971329 0.39060082 0.26726124 0.60120681 0.26726124\n",
            " 0.26726124 0.26726124 0.36440477 0.26726124 0.26726124 0.26726124\n",
            " 0.26726124 0.26726124 0.26726124 0.49605318 0.26726124 0.26726124\n",
            " 0.36515572 0.48600707 0.26726124 0.26726124 0.39077231 0.26726124\n",
            " 0.70859539 0.37840808 0.26726124 0.38886585 0.26726124 0.26726124\n",
            " 0.26726124 0.26726124 0.26726124 0.26726124 0.38948515 0.26726124\n",
            " 0.26726124 0.39215006 0.26726124 0.39218286 0.49953367 0.26726124\n",
            " 1.59174681 0.49945376 0.26726124 0.26726124 1.03628963 0.26726124\n",
            " 0.26726124 0.26726124 0.49593136 0.39222811 0.26726124 0.26726124\n",
            " 0.26726124 0.373244   0.26726124 0.26726124 0.26726124 0.26726124\n",
            " 6.75170478 0.26726124 0.26726124 0.26726124 0.26726124 0.26726124\n",
            " 0.39038744 0.26726124 0.26726124 0.70193775 0.26726124 0.38291121\n",
            " 0.26726124 0.38034523 0.26726124 0.26726124 0.26726124 0.26726124\n",
            " 0.26726124 0.26726124 0.26726124 0.3651412  0.70574313 0.26726124\n",
            " 0.26726124 0.49965687 0.26726124 0.26726124 0.26726124 0.26726124\n",
            " 0.48414045 0.26726124 0.26726124 0.26726124 0.26726124 0.38948515\n",
            " 0.26726124 0.39176198 0.26726124 0.26726124 0.26726124 0.26726124\n",
            " 0.38948515 0.39223227 0.26726124 0.26726124 0.69959612 0.26726124\n",
            " 0.26726124 0.26726124 0.26726124 0.26726124 0.38496052 0.26726124\n",
            " 0.26726124 0.26726124 0.26726124 0.53126295 0.26726124 0.26726124\n",
            " 0.26726124 0.39193505 0.26726124 0.26726124 0.26726124 0.26726124\n",
            " 0.26726124 0.26726124 0.39176198 0.63775762 0.26726124 0.39195584\n",
            " 0.49955805 0.26726124 1.13162311 0.49220969 0.26726124 0.48887091\n",
            " 0.48106733 0.39221317 0.26726124 0.35994454 0.39166936 0.26726124\n",
            " 0.39077231 0.39193505 0.26726124 0.39205656 3.45175511 0.26726124\n",
            " 0.26726124 0.39222807 0.26726124 0.26726124 0.26726124 0.26726124\n",
            " 0.49415516 1.39228203 0.26726124 0.26726124 0.26726124 0.38978328\n",
            " 0.26726124 0.86197788 0.26726124 0.26726124 0.26726124 0.26726124\n",
            " 0.26726124 0.26726124 0.39031673 0.26726124 0.26726124 0.26726124\n",
            " 0.39215006 0.26726124 0.39096881 0.26726124 0.26726124 0.26726124\n",
            " 0.39193505 0.26726124 0.26726124 0.26726124 0.26726124 0.39154493\n",
            " 0.26726124 0.26726124 0.26726124 0.80909942 0.39038744 0.26726124\n",
            " 0.26726124 0.49725139 0.26726124 0.26726124 0.26726124 0.26726124\n",
            " 0.65811633 0.26726124 0.47893855 0.49964356 0.26726124 0.26726124\n",
            " 0.26726124 0.26726124 0.4786704  0.59786011 0.38820111 0.26726124\n",
            " 0.49633128 0.49910422 0.26726124 0.93410353 0.26726124 0.26726124\n",
            " 0.26726124 0.6689214  0.26726124 0.26726124 0.26726124 0.49595427\n",
            " 0.26726124 0.39223227 0.26726124 1.23677797 0.99848    0.26726124\n",
            " 0.26726124 0.26726124 0.26726124 0.26726124 0.26726124 0.26726124\n",
            " 0.39077231 0.39077231 0.26726124 0.26726124 0.38900731 0.35874597\n",
            " 0.38845693 0.26726124 0.26726124 0.26726124 0.73480658 0.26726124\n",
            " 0.26726124 0.26726124 0.26726124 0.26726124 0.26726124 0.26726124\n",
            " 0.26726124 0.26726124 0.26726124 3.82242653 2.30847055 2.41663973\n",
            " 0.26726124 0.26726124 0.26726124 0.49782733 0.26726124 0.26726124\n",
            " 0.39166936 0.72132911 0.26726124 0.26726124 0.26726124 0.26726124\n",
            " 0.26726124 0.26726124 0.26726124 0.26726124 1.20667895 0.26726124\n",
            " 0.26726124 0.26726124 0.26726124 0.26726124 0.26726124 0.26726124\n",
            " 0.26726124 0.97106825 0.26726124 0.26726124 0.26726124 0.26726124\n",
            " 0.26726124 0.26726124 0.3902368  0.26726124 0.26726124 0.39221192\n",
            " 0.26726124 0.26726124 0.26726124 0.39096881 0.26726124 0.26726124\n",
            " 0.46528457 0.26726124 0.26726124 0.48363776 0.26726124 0.26726124\n",
            " 0.26726124 0.49768836 0.26726124 0.3906851  0.49516003 0.26726124\n",
            " 0.55986135 0.39096881 0.26726124 0.39160821 0.26726124 0.49725139\n",
            " 0.26726124 0.3919062  0.49935641 0.49894875 0.80984262 0.26726124\n",
            " 0.6990733  0.26726124 0.26726124 0.26726124 0.39182204 0.26726124\n",
            " 0.39096881 0.26726124 0.26726124 0.26726124 0.26726124 0.49391987\n",
            " 0.26726124 0.26726124 0.26726124 0.26726124 0.3906851  0.26726124\n",
            " 0.35238262 0.26726124 0.26726124 0.4803519  0.37971329 0.26726124\n",
            " 0.49676016 0.26726124 0.26726124 0.26726124 0.80927269 0.49854592\n",
            " 0.26726124 0.26726124 0.46908093 0.26726124 0.26726124 0.26726124\n",
            " 0.26726124 0.26726124 1.73118959 0.26726124 0.26726124 0.26726124\n",
            " 0.26726124 0.26726124 0.26726124 0.26726124 0.26726124 0.26726124\n",
            " 0.3906851  0.39166936 0.26726124 0.26726124 0.26726124 0.26726124\n",
            " 0.39221317 3.50114491 0.38912666 0.49861015 0.63804081 0.89910851\n",
            " 0.86803526 0.39096881 0.26726124 0.26726124 0.26726124 0.26726124\n",
            " 0.39223227 0.26726124 0.49894875 0.26726124 0.26726124 1.01195561\n",
            " 0.26726124 0.26726124 0.39222831 0.26726124 0.4688614  0.26726124\n",
            " 0.26726124 0.26726124 0.26726124 0.26726124 0.26726124 0.26726124\n",
            " 0.26726124 0.26726124 0.26726124 0.26726124 0.26726124 0.39080549\n",
            " 1.20086448 0.9727658  0.26726124 0.26726124 0.26726124 0.26726124\n",
            " 0.26726124 0.26726124 0.70300831 0.26726124 0.26726124 0.49603672\n",
            " 0.66330717 0.26726124 0.26726124 1.58251683 0.39166936 0.26726124\n",
            " 0.26726124 0.26726124 0.26726124 0.38573282 0.26726124 0.26726124\n",
            " 0.38912666 0.26726124 0.56929209 0.35054376 0.26726124 0.26726124\n",
            " 0.26726124 0.26726124 0.26726124 0.26726124 0.26726124 0.26726124\n",
            " 0.26726124 0.26726124 0.49950604 0.26726124 0.39160821 0.36061448\n",
            " 0.26726124 0.49436031 0.26726124 0.26726124 0.26726124 0.3902358\n",
            " 0.48282272 0.26726124 0.26726124 0.26726124 0.26726124 0.26726124\n",
            " 0.26726124 0.56929209 0.39222671 0.26726124 0.26726124 0.26726124\n",
            " 0.26726124 0.26726124 0.26726124 0.39198561 0.26726124 0.26726124\n",
            " 0.6848779  0.39038744 0.26726124 0.26726124 0.26726124 0.26726124\n",
            " 0.26726124 0.3906851  0.26726124 0.46146703 0.37091167 0.49907439\n",
            " 0.49657558 0.26726124 0.38863369 0.26726124 0.26726124 0.26726124\n",
            " 0.26726124 0.26726124 0.26726124 0.39223195 0.26726124 0.26726124\n",
            " 0.59245654 0.26726124 0.39060172 0.26726124 0.26726124 0.26726124\n",
            " 0.38608414 0.39054044 0.26726124 0.39222807 0.26726124 0.26726124\n",
            " 0.39222671 0.26726124 0.26726124 0.26726124 0.26726124 0.26726124\n",
            " 0.26726124 0.26726124 0.26726124 0.26726124 0.26726124 0.58600669\n",
            " 0.35350657 0.26726124 0.49965687 0.39193671 0.26726124 0.26726124\n",
            " 0.26726124 0.26726124 0.26726124 0.26726124 0.62271297 0.26726124\n",
            " 0.26726124 0.49950604 2.36189092 0.26726124 0.26726124 0.26726124\n",
            " 0.36515572 0.26726124 0.26726124 0.26726124 0.26726124 0.39038744\n",
            " 0.26726124 0.26726124 0.39038744 0.26726124 0.26726124 0.26726124\n",
            " 0.26726124 0.59907894 0.59846063 0.26726124 0.26726124 0.26726124\n",
            " 0.26726124 0.26726124 0.26726124 0.26726124 0.26726124 0.26726124\n",
            " 0.26726124 0.26726124 0.26726124 0.26726124 0.26726124 0.26726124\n",
            " 0.26726124 0.26726124 0.26726124 0.38824135 0.49894875 0.4984588\n",
            " 0.26726124 1.05632335 0.26726124 0.39152656 0.26726124 0.26726124\n",
            " 1.52160856 0.26726124 0.72568363 0.26726124 0.66884675 0.26726124\n",
            " 0.26726124 0.26726124 0.38886585 0.26726124 0.26726124 0.9249018\n",
            " 0.26726124 0.92542498 0.26726124 0.26726124 0.26726124 0.26726124\n",
            " 0.26726124 0.66364486 0.48428729 0.26726124 0.38968448 0.26726124\n",
            " 0.60210122 0.26726124 0.26726124 0.26726124 0.26726124 0.39198561\n",
            " 0.26726124 2.99573867 0.58981659 0.26726124 0.59463323 0.373244\n",
            " 2.23403933 4.89054971 0.78095393 1.04169663 0.26726124 0.6260879\n",
            " 0.26726124 0.26726124 0.26726124 0.26726124 1.04428052 0.26726124\n",
            " 0.38608414 0.79507755 0.26726124 0.26726124 0.59842626 0.26726124\n",
            " 0.26726124 0.26726124 2.50140596 0.37368885 0.39198561 0.36440477\n",
            " 0.39221192 0.26726124 0.26726124 0.26726124 0.26726124 0.26726124\n",
            " 0.26726124 0.26726124 0.26726124 0.49880434 0.26726124 0.49854592\n",
            " 0.26726124 0.26726124 0.26726124 0.39218302 0.49854592 0.39186271\n",
            " 0.43955631 0.26726124 0.26726124 0.26726124 0.49725139 0.26726124\n",
            " 0.26726124 0.26726124 0.26726124 0.26726124 0.26726124 0.26726124\n",
            " 0.26726124 0.49768836 0.49950604 0.26726124 0.26726124 0.26726124\n",
            " 0.49940592 0.26726124 0.26726124 0.26726124 0.35682885 0.26726124\n",
            " 0.38948515 0.26726124 0.4994815  0.39222831 0.26726124 0.26726124\n",
            " 0.26726124 0.38673224 0.26726124 0.26726124 0.26726124 0.26726124\n",
            " 0.26726124 0.26726124 0.26726124 0.60154365 0.26726124 0.49880378\n",
            " 0.26726124 0.26726124 0.26726124 0.85775144 4.04230357 0.60146572\n",
            " 0.49665611 0.26726124 0.37190637 0.26726124 0.90925191 0.3902358\n",
            " 0.26726124 0.3909287  0.26726124 2.07844113 0.26726124 0.26726124\n",
            " 0.35494118 0.60160258 0.26726124 0.26726124 0.26726124 0.26726124\n",
            " 0.26726124 0.26726124 0.26726124 0.56120253 0.70531935 0.47147015\n",
            " 0.26726124]\n"
          ]
        }
      ]
    },
    {
      "cell_type": "code",
      "source": [
        "singular_values = pca.singular_values_\n",
        "print(singular_values)  #The singular values provide information about the relative importance of each principal component. Specifically, they represent the standard deviation of the data projected onto each principal component."
      ],
      "metadata": {
        "colab": {
          "base_uri": "https://localhost:8080/"
        },
        "id": "SDKtzdSFbZt-",
        "outputId": "e89c7983-9ea9-434c-91a6-9ee62b3c3a8b"
      },
      "execution_count": 19,
      "outputs": [
        {
          "output_type": "stream",
          "name": "stdout",
          "text": [
            "[3.72725620e+01 3.46628763e+01 3.39624234e+01 3.26042079e+01\n",
            " 3.23851649e+01 3.18436490e+01 3.14534463e+01 3.13757024e+01\n",
            " 3.04151483e+01 2.96588580e+01 2.83312293e+01 2.72932142e+01\n",
            " 2.63099158e+01 2.50333941e+01 3.66607925e-14]\n"
          ]
        }
      ]
    },
    {
      "cell_type": "code",
      "source": [
        "features_count = pca.n_features_\n",
        "print(features_count) #the orginal 2nd attribute of X.shape"
      ],
      "metadata": {
        "colab": {
          "base_uri": "https://localhost:8080/"
        },
        "id": "zUEeYbiEV4xD",
        "outputId": "5aaf56bc-8777-4267-dccd-bb8c68884f62"
      },
      "execution_count": 20,
      "outputs": [
        {
          "output_type": "stream",
          "name": "stdout",
          "text": [
            "901\n"
          ]
        },
        {
          "output_type": "stream",
          "name": "stderr",
          "text": [
            "/usr/local/lib/python3.10/dist-packages/sklearn/utils/deprecation.py:101: FutureWarning: Attribute `n_features_` was deprecated in version 1.2 and will be removed in 1.4. Use `n_features_in_` instead.\n",
            "  warnings.warn(msg, category=FutureWarning)\n"
          ]
        }
      ]
    },
    {
      "cell_type": "markdown",
      "source": [
        "#### Calculating explained variance ratio"
      ],
      "metadata": {
        "id": "Vkrlc1Y1S5t-"
      }
    },
    {
      "cell_type": "code",
      "source": [
        "exp_var_pca = pca.explained_variance_ratio_"
      ],
      "metadata": {
        "id": "c2PzpuvaSLgx"
      },
      "execution_count": 21,
      "outputs": []
    },
    {
      "cell_type": "code",
      "source": [
        "import matplotlib.pyplot as plt\n",
        "plt.bar(range(0,len(exp_var_pca)), exp_var_pca, alpha=0.95, align='center', label='Individual explained variance')\n",
        "plt.ylabel('Explained variance ratio')\n",
        "plt.xlabel('Principal component index')                #Link refered :- https://vitalflux.com/pca-explained-variance-concept-python-example/\n",
        "plt.legend(loc='best')\n",
        "plt.tight_layout()\n",
        "plt.show()"
      ],
      "metadata": {
        "colab": {
          "base_uri": "https://localhost:8080/",
          "height": 487
        },
        "id": "b7xwpiTHSPsl",
        "outputId": "87d9ca1f-1479-4f7a-a356-2a8060340556"
      },
      "execution_count": 22,
      "outputs": [
        {
          "output_type": "display_data",
          "data": {
            "text/plain": [
              "<Figure size 640x480 with 1 Axes>"
            ],
            "image/png": "[encoded data removed]"
          },
          "metadata": {}
        }
      ]
    },
    {
      "cell_type": "markdown",
      "source": [
        "### Implementing another PCA."
      ],
      "metadata": {
        "id": "Qgb6N1r7VP6Y"
      }
    },
    {
      "cell_type": "code",
      "source": [
        "# So because of below reason I am selecting 3 because we need high explained variance ratio for less information loss in lower dimensions due to that my k here is 3.\n",
        "other_pca = PCA(n_components=3) #because of below reason.\n"
      ],
      "metadata": {
        "id": "mrK3nn906g6Z"
      },
      "execution_count": 23,
      "outputs": []
    },
    {
      "cell_type": "code",
      "source": [
        "X_standardized_array = X_standardized.toarray() # we can't apply directly to sparse matrix there fore it must be converted to array first.\n",
        "other_X_pca = other_pca.fit(X_standardized_array) #only fitting with 3 components not applying reduction."
      ],
      "metadata": {
        "id": "jaWKITIGA708"
      },
      "execution_count": 24,
      "outputs": []
    },
    {
      "cell_type": "code",
      "source": [
        "print(other_X_pca)"
      ],
      "metadata": {
        "colab": {
          "base_uri": "https://localhost:8080/"
        },
        "id": "1PwRo_oKBG8Y",
        "outputId": "e21ba5ad-6765-424c-80ae-6cc94ddf9568"
      },
      "execution_count": 25,
      "outputs": [
        {
          "output_type": "stream",
          "name": "stdout",
          "text": [
            "PCA(n_components=3)\n"
          ]
        }
      ]
    },
    {
      "cell_type": "markdown",
      "source": [
        "## Reason for k=3 :- From the bar plot there is a steep decrease at 3 and 8 so according to here :- https://statisticsglobe.com/choose-optimal-number-components-pca in section 2.3 we need to see the elbow point because after this point any extra pca components are not necessary as they have even less explained variance ratio."
      ],
      "metadata": {
        "id": "ZgJ_nUAo9RRH"
      }
    },
    {
      "cell_type": "markdown",
      "source": [
        "### Exploring SparsePCA\n",
        "\n",
        ">As tf-idf matrix is sparse matrix there is this PCA which is much more suitable if sparcity is concerened.\n",
        "\n"
      ],
      "metadata": {
        "id": "I9Rdgs0_CEZF"
      }
    },
    {
      "cell_type": "code",
      "source": [
        "from sklearn.decomposition import SparsePCA\n",
        "sparce_pca = SparsePCA()  #without mentioning any components."
      ],
      "metadata": {
        "id": "TJ9CbpsOBJvE"
      },
      "execution_count": 26,
      "outputs": []
    },
    {
      "cell_type": "code",
      "source": [
        "X_standardized_array = X_standardized.toarray() # we can't apply directly to sparse matrix there fore it must be converted to array first.\n",
        "X_sparce_pca = sparce_pca.fit(X_standardized_array)"
      ],
      "metadata": {
        "id": "W98q0Ez9IcaZ"
      },
      "execution_count": 27,
      "outputs": []
    },
    {
      "cell_type": "code",
      "source": [
        "print(X_sparce_pca)"
      ],
      "metadata": {
        "colab": {
          "base_uri": "https://localhost:8080/"
        },
        "id": "WaRBlY87JA8A",
        "outputId": "5a83f58a-608f-48ff-e038-55d739a3996c"
      },
      "execution_count": 28,
      "outputs": [
        {
          "output_type": "stream",
          "name": "stdout",
          "text": [
            "SparsePCA()\n"
          ]
        }
      ]
    },
    {
      "cell_type": "markdown",
      "source": [
        "#### As SparsePca consider sparsity their principal components are not orthogonal, therefore we should calculate explained variance ratio through eigen values and eigen vectors which are prohibited in this assignment. Also I am not considering sparsity so throughout this assignemnt I will be sticking to normal PCA."
      ],
      "metadata": {
        "id": "uwCltu1pZl-R"
      }
    },
    {
      "cell_type": "markdown",
      "source": [
        "## Task-3 (Projection and reconstruction on correlation matrix)"
      ],
      "metadata": {
        "id": "gJjjOA1Ls0YS"
      }
    },
    {
      "cell_type": "code",
      "source": [
        "pca = PCA(n_components=3)\n",
        "X_standardized_array= X_standardized.toarray()\n",
        "\n",
        "\n",
        "X_dim_reduced = pca.fit_transform(X_standardized_array)   #reduced to 3 features\n"
      ],
      "metadata": {
        "id": "8zI91We9cikS"
      },
      "execution_count": 29,
      "outputs": []
    },
    {
      "cell_type": "code",
      "source": [
        "X_reconstructed = pca.inverse_transform(X_dim_reduced) #using inbuilt inverse_transform function reconstructed the array."
      ],
      "metadata": {
        "id": "x9v9DW0WuL39"
      },
      "execution_count": 30,
      "outputs": []
    },
    {
      "cell_type": "code",
      "source": [
        "import numpy as np\n",
        "mean = np.mean(X_reconstructed)\n",
        "std = np.std(X_reconstructed)\n",
        "X_fully_reconstructed = X_reconstructed* std + mean #According to slides, This step is needed for fully reconstruction as it is destandardization."
      ],
      "metadata": {
        "id": "XedaBdGy1UQz"
      },
      "execution_count": 31,
      "outputs": []
    },
    {
      "cell_type": "code",
      "source": [
        "#print(type(X_reconstructed))"
      ],
      "metadata": {
        "id": "o57ScWWkv7vE"
      },
      "execution_count": 32,
      "outputs": []
    },
    {
      "cell_type": "code",
      "source": [
        "print(X_fully_reconstructed.shape)"
      ],
      "metadata": {
        "id": "UqlkJtZKwGI4",
        "colab": {
          "base_uri": "https://localhost:8080/"
        },
        "outputId": "639085b1-1b06-4385-c0fa-3aa36a026fbf"
      },
      "execution_count": 33,
      "outputs": [
        {
          "output_type": "stream",
          "name": "stdout",
          "text": [
            "(15, 901)\n"
          ]
        }
      ]
    },
    {
      "cell_type": "code",
      "source": [
        "#print(type(X_standardized_array))"
      ],
      "metadata": {
        "id": "b_aZW3E9wAgu"
      },
      "execution_count": 34,
      "outputs": []
    },
    {
      "cell_type": "code",
      "source": [
        "#print(X_Corr.shape)"
      ],
      "metadata": {
        "id": "DFikVQQKwUKR"
      },
      "execution_count": 35,
      "outputs": []
    },
    {
      "cell_type": "code",
      "source": [
        "import numpy as np\n",
        "mse = np.sum((X_standardized_array - X_fully_reconstructed) ** 2, axis=1).mean()    #Actually X_Standardized is orginal tf-idf matrix but for fitting we used X_standardized_array and that will be considered as orignal features here.\n",
        "#and link referred here is :- https://stackoverflow.com/questions/36566844/pca-projection-and-reconstruction-in-scikit-learn"
      ],
      "metadata": {
        "id": "Anx8Bro0uiDG"
      },
      "execution_count": 36,
      "outputs": []
    },
    {
      "cell_type": "code",
      "source": [
        "print(mse)"
      ],
      "metadata": {
        "colab": {
          "base_uri": "https://localhost:8080/"
        },
        "id": "JbCmAts6vjpl",
        "outputId": "69b8a304-f44b-47ae-80ce-6cea0740c00d"
      },
      "execution_count": 37,
      "outputs": [
        {
          "output_type": "stream",
          "name": "stdout",
          "text": [
            "767.848875786453\n"
          ]
        }
      ]
    },
    {
      "cell_type": "markdown",
      "source": [
        "### Generating a lineplot for MSE of reconstruction and original features."
      ],
      "metadata": {
        "id": "wVdwlf7i1HEB"
      }
    },
    {
      "cell_type": "code",
      "source": [
        "mse_values=[]\n",
        "for k in range(1,15):\n",
        "  pca = PCA(n_components=k)                          #application of pca as above.\n",
        "  X_standardized_array= X_standardized.toarray()\n",
        "                       # Here I have applied pca and reconstruction and de standardization and finally calculated mse for k in range 1 to 15 to get good analysis of bar plot and line plot.\n",
        "  X_dim_reduced = pca.fit_transform(X_standardized_array)\n",
        "\n",
        "  X_reconstructed = pca.inverse_transform(X_dim_reduced)\n",
        "\n",
        "  mean = np.mean(X_reconstructed)\n",
        "  std = np.std(X_reconstructed)                          # destandardization\n",
        "  X_fully_reconstructed = X_reconstructed* std + mean\n",
        "\n",
        "\n",
        "  mse = np.sum((X_standardized_array - X_fully_reconstructed) ** 2, axis=1).mean() #mse calculation for each pca component.\n",
        "  mse_values.append(mse)\n",
        "\n"
      ],
      "metadata": {
        "id": "qbHa4YX-vlW-"
      },
      "execution_count": 38,
      "outputs": []
    },
    {
      "cell_type": "code",
      "source": [
        "principal_components =[]\n",
        "for i in range(1,15):\n",
        "  principal_components.append(i)"
      ],
      "metadata": {
        "id": "pfA9mgAa2dOI"
      },
      "execution_count": 39,
      "outputs": []
    },
    {
      "cell_type": "code",
      "source": [
        "plt.plot(principal_components, mse_values, linestyle='-')\n",
        "plt.plot(principal_components, mse_values,'ro')\n",
        "plt.xlabel(\"principal components\")               #plotting red labels for each principal components, reconstruction mse losses in the graph.\n",
        "plt.ylabel(\"reconstruction mean square losses\")\n",
        "plt.legend([\"Line plot between reconstruction loss vs k\"])\n",
        "plt.show()"
      ],
      "metadata": {
        "colab": {
          "base_uri": "https://localhost:8080/",
          "height": 449
        },
        "id": "vbgRSipw3OZE",
        "outputId": "812834c5-ecf7-4628-c5a5-22b5fefcc0a0"
      },
      "execution_count": 40,
      "outputs": [
        {
          "output_type": "display_data",
          "data": {
            "text/plain": [
              "<Figure size 640x480 with 1 Axes>"
            ],
            "image/png": "[encoded data removed]"
          },
          "metadata": {}
        }
      ]
    },
    {
      "cell_type": "markdown",
      "source": [
        "### Reason for validity of my choice of k with this line plot.\n",
        "The reason is :- From the bar plot I have chosen k as a elbow point meaning after this values we will get only less explained variance ratio. So my choice of k is to capture maximum variance from original data which naturally has very high reconstruction mse due to high variance. As more and more principal components are being added the variance in barplot decreases meaning explained variance ratio decreases implying more correct original data will be captured resulting lower mses. So the downward line plot of mses is correct. You can check this link which had observed the same line plot nature of reconstruction mses for pca of images . which had explained very clearly.\n",
        "link :- https://medium.com/@pranjallk1995/pca-for-image-reconstruction-from-scratch-cf4a787c1e36"
      ],
      "metadata": {
        "id": "Z_HRPa6uLFvs"
      }
    },
    {
      "cell_type": "code",
      "source": [],
      "metadata": {
        "id": "fMIRWikh3sPb"
      },
      "execution_count": 40,
      "outputs": []
    },
    {
      "cell_type": "markdown",
      "source": [
        "## Task-4 (Interpretation of results)"
      ],
      "metadata": {
        "id": "MTMWmWt63FMH"
      }
    },
    {
      "cell_type": "markdown",
      "source": [
        "### Effects of Standardization and De-standardization:\n",
        "\n",
        "Standardization: Standardization is considered crucial in PCA, as it ensures that all features (in my case, the TF-IDF values for different terms in the movie descriptions) have the same scale. This results in the prevention of any single feature dominating the principal components solely because of its scale. By standardizing, it is ensured that the PCA analysis relies on the variances and covariances between the terms, rather than their absolute values. This is particularly important when working with text data, as term frequencies can vary widely.\n",
        "\n",
        "De-standardization: After dimensionality reduction with PCA and subsequent de-standardization, the data is effectively reconstructed in the original scale. This step is vital when seeking to interpret and visualize results within the context of the original data. It facilitates an understanding of how the principal components relate to the original terms and descriptions."
      ],
      "metadata": {
        "id": "gjdD6knx9DX1"
      }
    },
    {
      "cell_type": "markdown",
      "source": [
        "### Choice of 'k' (Number of Principal Components):\n",
        "\n",
        "Balancing Information Retention and Dimensionality Reduction: The selection of 'k' determines the quantity of principal components retained post-PCA. A smaller 'k' reduces dimensionality but potentially leads to information loss, whereas a larger 'k' retains more information but offers limited dimensionality reduction. A trade-off is inherent, and the choice made should be contingent on the specific objectives of the analysis.\n",
        "\n",
        "In my case, 'k=3' was chosen based on the explained variance ratio plot. Consequently, the top 3 principal components were retained, collectively explaining a substantial proportion of the variance within the TF-IDF data. This choice seems to strike a balance between dimensionality reduction and information retention."
      ],
      "metadata": {
        "id": "nHdk-AdC9Rfk"
      }
    },
    {
      "cell_type": "code",
      "source": [
        "terms = vectorizer.get_feature_names_out()"
      ],
      "metadata": {
        "id": "bwxyfqmG_2Oi"
      },
      "execution_count": 41,
      "outputs": []
    },
    {
      "cell_type": "code",
      "source": [
        "print(type(terms))"
      ],
      "metadata": {
        "colab": {
          "base_uri": "https://localhost:8080/"
        },
        "id": "3FBD5JGBAJEF",
        "outputId": "029db8b9-c7dc-4324-e254-5b73f7ed0f78"
      },
      "execution_count": 42,
      "outputs": [
        {
          "output_type": "stream",
          "name": "stdout",
          "text": [
            "<class 'numpy.ndarray'>\n"
          ]
        }
      ]
    },
    {
      "cell_type": "code",
      "source": [
        "terms_list = terms.tolist()"
      ],
      "metadata": {
        "id": "4dQDPkTEAMDu"
      },
      "execution_count": 43,
      "outputs": []
    },
    {
      "cell_type": "code",
      "source": [
        "def extract_top_terms(pca_components, k):\n",
        "    top_terms_indices = np.argsort(np.abs(pca_components))[:, ::-1][:k]  #link referred :- https://www.geeksforgeeks.org/numpy-argsort-in-python/\n",
        "    return top_terms_indices\n",
        "\n",
        "# np.abs(pca_components): Calculates the absolute values of the elements in the pca_components array. This is done to ensure that both positive and negative values contribute to sorting. and np.argsort(...): Returns the indices that would sort the np.abs(pca_components) array in ascending order along each row. The result is a 2D array where each row contains the indices that would sort the corresponding row of pca_components in ascending order.\n",
        "#[:, ::-1]: This part reverses the order of the indices along each row. It effectively sorts the indices in descending order, ensuring that the terms with the highest absolute values come first.\n",
        "#[:k]: Finally, this part selects the top k indices for each row, effectively giving you the indices of the top k terms for each principal component."
      ],
      "metadata": {
        "id": "-QusmDgvAiGX"
      },
      "execution_count": 44,
      "outputs": []
    },
    {
      "cell_type": "code",
      "source": [
        "pca = PCA(n_components=3)\n",
        "X_standardized_array= X_standardized.toarray()\n",
        "X_cache = pca.fit(X_standardized_array)"
      ],
      "metadata": {
        "id": "RwNKXsj9AroJ"
      },
      "execution_count": 45,
      "outputs": []
    },
    {
      "cell_type": "code",
      "source": [
        "pca_components = pca.components_ #from above explained attributes.\n",
        "k=3\n",
        "\n",
        "top_terms_indices = extract_top_terms(pca_components, 3)\n"
      ],
      "metadata": {
        "id": "9y12lArlA5IX"
      },
      "execution_count": 46,
      "outputs": []
    },
    {
      "cell_type": "code",
      "source": [
        "print(pca_components.shape)"
      ],
      "metadata": {
        "colab": {
          "base_uri": "https://localhost:8080/"
        },
        "id": "GsowehSZGt46",
        "outputId": "627ed45d-573d-427e-e3a4-f4b550b4365a"
      },
      "execution_count": 47,
      "outputs": [
        {
          "output_type": "stream",
          "name": "stdout",
          "text": [
            "(3, 901)\n"
          ]
        }
      ]
    },
    {
      "cell_type": "code",
      "source": [
        "print(top_terms_indices)"
      ],
      "metadata": {
        "colab": {
          "base_uri": "https://localhost:8080/"
        },
        "id": "yg9alfz8BZcl",
        "outputId": "40982350-8be4-4a98-d62d-c3adaf4b8846"
      },
      "execution_count": 48,
      "outputs": [
        {
          "output_type": "stream",
          "name": "stdout",
          "text": [
            "[[769 363 651 ... 544 828 654]\n",
            " [827  16 807 ...  54 303 373]\n",
            " [774 825  92 ... 297  80 889]]\n"
          ]
        }
      ]
    },
    {
      "cell_type": "code",
      "source": [
        "top_terms_lists = [[terms_list[i] for i in row] for row in top_terms_indices]\n",
        "                                                   #as top_terms_indices are list of lists.\n",
        "# Print the top terms lists\n",
        "for i, top_terms_list in enumerate(top_terms_lists):\n",
        "    print(f\"Top terms for component {i + 1}: {top_terms_list}\")"
      ],
      "metadata": {
        "colab": {
          "base_uri": "https://localhost:8080/"
        },
        "id": "Q4obcX_6BvTr",
        "outputId": "52197f34-c590-42ca-a064-ec0e2b3152ec"
      },
      "execution_count": 49,
      "outputs": [
        {
          "output_type": "stream",
          "name": "stdout",
          "text": [
            "Top terms for component 1: ['suspense', 'heart', 'relatable', 'values', 'cinematography', 'production', 'sesh', 'adivi', 'benefits', 'secrets', 'your', 'thriller', 'edge', 'seat', 'young', 'you', 'sharma', 'crafted', 'both', 'dreams', 'including', 'adults', 'essence', 'feel', 'aspirations', 'good', 'celebrates', 'strong', 'comedy', 'must', 'twists', 'unexpected', 'other', 'importance', 'chemistry', 'choices', 'endearing', 'be', 'they', 'make', 'until', 'maintained', 'guessing', 'summary', 'keeps', 'bhascker', 'tharun', 'dhaassyam', 'its', 'who', 'performances', 'watch', 'from', 'supporting', 'meeting', 'pelli', 'following', 'spend', 'ambitions', 'resonates', 'choopulu', 'this', 'ambitious', 'india', 'couple', 'became', 'chitra', 'decide', 'defies', 'devarakonda', 'developed', 'pretend', 'introduces', 'introspection', 'accidental', 'struggles', 'during', 'new', 'yet', 'encourages', 'driven', 'easygoing', 'aspiring', 'passions', 'light', 'us', 'career', 'goals', 'pursue', 'however', 'wave', 'hearted', 'received', 'paving', 'ritu', 'heartwarming', 'begin', 'gathering', 'charming', 'chef', 'vijay', 'understand', 'balanced', 'between', 'each', 'compelling', 'and', 'story', 'telugu', 'delves', 'her', 'mystery', 'situational', 'deliver', 'add', 'emotional', 'executed', 'naveen', 'murali', 'gray', 'judgments', 'shades', 'enhance', 'intricate', 'question', 'murder', 'puzzle', 'slowly', 'provides', 'multiple', 'satisfying', 'genuinely', 'sameera', 'progresses', 'evaru', 'equally', 'impressive', 'enthusiasts', 'plays', 'husband', 'creating', 'ambiguity', 'conventional', 'web', 'lies', 'comes', 'linear', 'complexity', 'truth', 'timelines', 'weaves', 'perceptions', 'undergoes', 'perspectives', 'killing', 'venkat', 'kept', 'surprising', 'non', 'ramji', 'manner', 'vasudev', 'cop', 'actions', 'accused', 'layers', 'transformation', 'depth', 'screenplay', 'approaches', 'bharadwaj', 'at', 'bystander', 'rishi', 'help', 'perepu', 'anasuya', 'shocking', 'adversaries', 'whirlwind', 'satyam', 'ravikanth', 'additionally', 'adah', 'sacrifice', 'would', 'investigation', 'shines', 'investigator', 'finest', 'convincingly', 'thrillers', 'dangerous', 'missing', 'tight', 'events', 'every', 'ex', 'kshanam', 'confronts', 'ride', 'rajesh', 'final', 'daughter', 'corner', 'transforms', 'skeptical', 'turmoil', 'turns', 'uncovers', 'delivering', 'shweta', 'keep', 'moments', 'prasanth', 'audience', 'viewers', 'cast', 'revelation', 'expertly', 'case', 'dynamics', 'characters', 'him', 'adding', 'in', 'makes', 'out', 'stand', 'gripping', 'pursuing', 'wide', 'throughout', 'contribute', 'humor', 'life', 'commercial', 'success', 'critical', 'acclaim', 'contemporary', 'combines', 'bringing', 'carefree', 'narrative', 'well', 'mind', 'norms', 'lingers', 'cassandra', 'regina', 'go', 'loved', 'masterfully', 'ones', 'lengths', 'deeper', 'girlfriend', 'youth', 'nagaraniki', 'people', 'quirks', 'possibilities', 'navigate', 'enhancing', 'lighthearted', 'capture', 'emaindi', 'ee', 'sushanth', 'direction', 'transition', 'trip', 'upendra', 'captures', 'camaraderie', 'reddy', 'buddy', 'before', 'vishwak', 'vivek', 'wedding', 'adventure', 'adulthood', 'without', 'embark', 'ensures', 'spirit', 'soundtrack', 'refreshing', 'laughs', 'resorting', 'kaushik', 'karthik', 'kakumanu', 'road', 'joy', 'sen', 'grounded', 'gomatam', 'goa', 'genuine', 'slapstick', 'four', 'experiences', 'portrays', 'friendship', 'abhinav', 'one', 'into', 'delightful', 'he', 'like', 'deception', 'embroiled', 'very', 'end', 'gradually', 'impact', 'man', 'music', 'cinematic', 'tension', 'experience', 'that', 'suspenseful', 'apart', 'sets', 'family', 'universally', 'dream', 'control', 'audiences', 'souza', 'believable', 'spirited', 'beloved', 'continues', 'bommarillu', 'complexities', 'resonated', 'meets', 'rooted', 'respecting', 'emotions', 'but', 'narayan', 'can', 'desire', 'child', 'share', 'everyday', 'overbearing', 'hasini', 'individuality', 'patriarch', 'freedom', 'partner', 'ages', 'parenting', 'parent', 'smothered', 'identify', 'genelia', 'overprotective', 'heartfelt', 'free', 'portraying', 'independence', 'screen', 'appealing', 'siddu', 'fantastic', 'siddharth', 'where', 'the', 'testament', 'character', 'actors', 'drawn', 'overall', 'interactions', 'consequences', 'moral', 'chandra', 'relationship', 'friends', 'love', 'laughter', 'themes', 'movie', 'are', 'on', 'vikram', 'way', 'ability', 'classic', 'their', 'authenticity', 'realistic', 'remarkable', 'has', 'raj', 'prakash', 'right', 'exploration', 'protect', 'powerful', 'off', 'with', 'hilarious', 'brilliance', 'corrupt', 'becomes', 'film', 'to', 'storytelling', 'time', 'understanding', 'bhaskar', 'an', 'varma', 'takes', 'by', 'take', 'delivers', 'together', 'lives', 'portrayal', 'challenges', 'woman', 'all', 'many', 'cinema', 'faced', 'conventions', 'traditional', 'perilous', 'operations', 'skill', 'agency', 'indian', 'assigned', 'intelligence', 'genre', 'aspires', 'quality', 'dhulipala', 'diverse', 'sashi', 'seasoned', 'sobhita', 'duty', 'supriya', 'eager', 'kiran', 'trust', 'starring', 'espionage', 'covert', 'conveys', 'line', 'yarlagadda', 'gopi', 'recruit', 'tikka', 'become', 'complex', 'goodachari', 'lead', 'navigating', 'personal', 'spy', 'tells', 'sacrifices', 'effectively', 'joins', 'about', 'explores', 'as', 'providing', 'genres', 'intelligent', 'played', 'determination', 'exploring', 'another', 'explore', 'gopal', 'world', 'women', 'serial', 'sense', 'willingness', 'anukshanam', 'gautam', 'vishnu', 'seek', 'aspects', 'human', 'solving', 'palpable', 'grim', 'atmosphere', 'keeping', 'races', 'depths', 'killer', 'killers', 'depravity', 'tasked', 'meticulous', 'dedication', 'matter', 'ram', 'layer', 'leading', 'leave', 'darkest', 'manchu', 'criminals', 'those', 'obsession', 'revathi', 'procedures', 'built', 'psyche', 'catch', 'notable', 'unwavering', 'preys', 'engrossed', 'subject', 'elusive', 'convincing', 'navdeep', 'investigations', 'urgency', 'turn', 'appeal', 'will', 'when', 'it', 'create', 'situations', 'roller', 'finding', 'coaster', 'father', 'portrayed', 'just', 'not', 'elements', 'engaged', 'making', 'justice', 'performance', 'seamlessly', 'blend', 'directed', 'adds', 'around', 'for', 'sequences', 'venkatesh', 'packed', 'viewing', 'own', 'while', 'babu', 'fans', 'octane', 'ruthless', 'rajamouli', 'relationships', 'major', 'journey', 'his', 'revolves', 'srinu', 'dose', 'levity', 'amidst', 'among', 'cleanse', 'package', 'mahesh', 'dookudu', 'adrenaline', 'entertaining', 'primarily', 'entertainer', 'dance', 'caters', 'energetic', 'storyline', 'kumar', 'predominantly', 'politicians', 'vaitla', 'system', 'best', 'humorous', 'combining', 'noteworthy', 'ajay', 'favorite', 'highly', 'knack', 'incorporates', 'getting', 'known', 'highlight', 'abilities', 'nani', 'fly', 'housefly', 'voice', 'premise', 'garnered', 'villain', 'visual', 'creative', 'driving', 'effects', 'sudeep', 'eega', 'strengths', 'seeks', 'reincarnated', 'technical', 'newfound', 'antagonist', 'uses', 'outsmart', 'titular', 'revenge', 'is', 'liners', 'value', 'stars', 'memorable', 'ravi', 'tough', 'teja', 'thrilling', 'role', 'realities', 'doesn', 'away', 'gritty', 'showcasing', 'shy', 'ensemble', 'filled', 'stellar', 'clever', 'stakes', 'unfolds', 'blends', 'unravel', 'awe', 'various', 'taken', 'revelations', 'restaurant', 'mysterious', 'converge', 'credits', 'aggarwal', 'mysteries', 'single', 'viewer', 'after', 'narratives', 'persona', 'psychological', 'different', 'individuals', 'roll', 'others', 'stories', 'engaging', 'approach', 'nithya', 'enigmatic', 'menen', 'kajal', 'audacious', 'intrigue', 'intertwine', 'interconnected', 'disturbed', 'long', 'daring', 'supernatural', 'surreal', 'follows', 'limits', 'themselves', 'brilliant', 'prime', 'daggubati', 'morality', 'rambabu', 'outwits', 'wits', 'person', 'wife', 'seemingly', 'moidu', 'find', 'son', 'which', 'middle', 'class', 'powerhouse', 'nadia', 'intriguing', 'ordinary', 'operator', 'battle', 'disappearance', 'meena', 'dramatic', 'jyothi', 'drishyam', 'cable', 'suspects', 'pushed', 'joseph', 'jeethu', 'structure', 'fantasy', 'choreographed', 'catchy', 'trying', 'thief', 'dual', 'dialogues', 'small', 'face', 'sincere', 'influential', 'rathod', 'precision', 'intertwining', 'perseverance', 'athili', 'vikramarkudu', 'showcases', 'versatility', 'sathi', 'capturing', 'of', 'comical', 'perfect', 'brahmanandam', 'aggressive', 'unorthodox', 'centers', 'policing', 'varalaxmi', 'agility', 'potharaju', 'unyielding', 'appeals', 'vigilantism', 'notorious', 'veera', 'blurred', 'power', 'shankar', 'shruti', 'gangster', 'recent', 'haasan', 'law', 'krishna', 'krack', 'contributes', 'depicting', 'harsh', 'malineni', 'katari', 'raw', 'lines', 'embodying', 'methods', 'emotionally', 'enforcement', 'sarathkumar', 'gopichand', 'samuthirakani', 'inspector', 'charisma', 'charged', 'wrong', 'businessman', 'potential', 'charismatic', 'what', 'action', 'police', 'actor', 'drama', 'criminal', 'determined', 'pursuit', 'also', 'activities', 'greed', 'dilemmas', 'think', 'focus', 'involving', 'operation', 'unwittingly', 'empathize', 'aithe', 'predicaments', 'yeleti', 'group', 'intricacies', 'development', 'sekhar', 'harsha', 'taut', 'loyalty', 'playing', 'vardhan', 'maintaining', 'relies', 'rane', 'key', 'kidnapping', 'abhishek', 'features', 'innovative', 'innovation', 'creativity', 'high', 'protagonist', 'made', 'marriage', 'nagarjuna', 'series', 'sonali', 'hires', 'akkineni', 'pose', 'harika', 'giving', 'sharp', 'feelings', 'songs', 'impeccable', 'change', 'successful', 'parents', 'aversion', 'charm', 'misunderstandings', 'tumultuous', 'comic', 'commitment', 'manmadhudu', 'timing', 'test', 'bharani', 'presence', 'bendre', 'vijaya', 'deter', 'balances', 'tanikella', 'laughing', 'exceptionally', 'ensues', 'stood', 'romance', 'arranging', 'emotion', 'due', 'disdain', 'start', 'abhiram', 'against', 'plot', 'intense', 'entertainment', 'roles', 'mission', 'standout', 'offers', 'witty', 'crime', 'bring', 'officer', 'unique', 'relentless']\n",
            "Top terms for component 2: ['unfolds', 'adding', 'together', 'her', 'woman', 'exploration', 'police', 'known', 'stars', 'officer', 'dreams', 'packed', 'delivers', 'relatable', 'justice', 'narrative', 'aspirations', 'feel', 'essence', 'good', 'celebrates', 'adults', 'prasanth', 'depth', 'unexpected', 'twists', 'must', 'young', 'determined', 'viewing', 'own', 'pursuit', 'action', 'secrets', 'benefits', 'gritty', 'doesn', 'shy', 'showcasing', 'realities', 'away', 'yet', 'pretend', 'couple', 'however', 'india', 'developed', 'begin', 'understand', 'hearted', 'spend', 'heartwarming', 'devarakonda', 'passions', 'pelli', 'decide', 'defies', 'charming', 'chef', 'chitra', 'driven', 'choopulu', 'introspection', 'introduces', 'this', 'struggles', 'career', 'paving', 'balanced', 'gathering', 'during', 'encourages', 'received', 'following', 'meeting', 'resonates', 'wave', 'goals', 'light', 'ambitions', 'ambitious', 'vijay', 'new', 'ritu', 'became', 'aspiring', 'pursue', 'us', 'easygoing', 'accidental', 'their', 'intense', 'what', 'crime', 'heart', 'directed', 'strong', 'adds', 'is', 'fans', 'octane', 'accused', 'satisfying', 'impressive', 'husband', 'genuinely', 'ramji', 'surprising', 'truth', 'perceptions', 'comes', 'creating', 'murder', 'intricate', 'murali', 'lies', 'multiple', 'perspectives', 'complexity', 'cop', 'plays', 'slowly', 'judgments', 'killing', 'naveen', 'shades', 'gray', 'timelines', 'provides', 'enhance', 'puzzle', 'question', 'enthusiasts', 'sameera', 'equally', 'non', 'kept', 'evaru', 'conventional', 'ambiguity', 'vasudev', 'progresses', 'undergoes', 'linear', 'manner', 'weaves', 'web', 'venkat', 'actions', 'they', 'tough', 'teja', 'ravi', 'sequences', 'high', 'regina', 'mind', 'norms', 'cassandra', 'lingers', 'dhaassyam', 'bhascker', 'tharun', 'relentless', 'bring', 'sesh', 'adivi', 'production', 'cinematography', 'values', 'film', 'that', 'liners', 'value', 'his', 'viewers', 'blend', 'experience', 'charismatic', 'capturing', 'determination', 'an', 'crafted', 'sharma', 'unorthodox', 'embodying', 'haasan', 'appeals', 'gopichand', 'law', 'harsh', 'unyielding', 'notorious', 'sarathkumar', 'blurred', 'emotionally', 'samuthirakani', 'varalaxmi', 'veera', 'contributes', 'lines', 'vigilantism', 'malineni', 'raw', 'gangster', 'methods', 'inspector', 'wrong', 'recent', 'policing', 'potharaju', 'power', 'charisma', 'charged', 'katari', 'depicting', 'aggressive', 'centers', 'shruti', 'agility', 'krack', 'enforcement', 'krishna', 'shankar', 'character', 'against', 'be', 'chemistry', 'choices', 'importance', 'endearing', 'other', 'engaged', 'entertainment', 'conventions', 'traditional', 'your', 'well', 'played', 'transformation', 'layers', 'each', 'brahmanandam', 'comical', 'perfect', 'major', 'babu', 'by', 'and', 'challenges', 'watch', 'in', 'while', 'where', 'standout', 'witty', 'explores', 'for', 'highlight', 'its', 'actor', 'sets', 'apart', 'memorable', 'right', 'bringing', 'testament', 'will', 'compelling', 'maintained', 'until', 'guessing', 'journey', 'supporting', 'clever', 'stellar', 'characters', 'authenticity', 'story', 'has', 'keeps', 'plot', 'varma', 'themes', 'anukshanam', 'keeping', 'willingness', 'palpable', 'tasked', 'killer', 'women', 'world', 'investigations', 'subject', 'meticulous', 'catch', 'built', 'killers', 'those', 'navdeep', 'matter', 'layer', 'leading', 'leave', 'manchu', 'obsession', 'urgency', 'notable', 'atmosphere', 'aspects', 'vishnu', 'another', 'unwavering', 'gautam', 'sense', 'races', 'darkest', 'criminals', 'depravity', 'engrossed', 'depths', 'human', 'grim', 'solving', 'elusive', 'psyche', 'convincing', 'gopal', 'revathi', 'preys', 'seek', 'serial', 'ram', 'procedures', 'explore', 'dedication', 'of', 'situations', 'make', 'edge', 'seat', 'critical', 'commercial', 'success', 'acclaim', 'cinematic', 'criminal', 'marriage', 'nagarjuna', 'disdain', 'giving', 'exceptionally', 'harika', 'due', 'romance', 'arranging', 'akkineni', 'manmadhudu', 'vijaya', 'emotion', 'ensues', 'start', 'tumultuous', 'aversion', 'change', 'stood', 'songs', 'sonali', 'commitment', 'successful', 'comic', 'impeccable', 'feelings', 'charm', 'tanikella', 'pose', 'balances', 'parents', 'test', 'hires', 'deter', 'sharp', 'misunderstandings', 'timing', 'bharani', 'presence', 'series', 'bendre', 'laughing', 'abhiram', 'both', 'portrayal', 'throughout', 'abhinav', 'youth', 'spirit', 'portrays', 'slapstick', 'sushanth', 'refreshing', 'reddy', 'four', 'wedding', 'soundtrack', 'kakumanu', 'karthik', 'vivek', 'adventure', 'lighthearted', 'ee', 'kaushik', 'genuine', 'possibilities', 'goa', 'vishwak', 'gomatam', 'quirks', 'laughs', 'upendra', 'grounded', 'navigate', 'people', 'emaindi', 'embark', 'trip', 'transition', 'road', 'enhancing', 'before', 'ensures', 'captures', 'buddy', 'without', 'direction', 'resorting', 'experiences', 'nagaraniki', 'sen', 'joy', 'capture', 'camaraderie', 'adulthood', 'friendship', 'predominantly', 'knack', 'system', 'primarily', 'humorous', 'highly', 'incorporates', 'caters', 'package', 'politicians', 'vaitla', 'getting', 'srinu', 'dookudu', 'adrenaline', 'entertainer', 'dose', 'favorite', 'mahesh', 'cleanse', 'dance', 'ajay', 'noteworthy', 'energetic', 'entertaining', 'levity', 'amidst', 'best', 'among', 'storyline', 'combining', 'kumar', 'dual', 'intertwining', 'trying', 'influential', 'choreographed', 'small', 'dialogues', 'showcases', 'face', 'sincere', 'rathod', 'catchy', 'thief', 'precision', 'perseverance', 'sathi', 'versatility', 'vikramarkudu', 'athili', 'ruthless', 'rajamouli', 'on', 'suspense', 'turn', 'around', 'love', 'businessman', 'also', 'every', 'kshanam', 'ex', 'additionally', 'shines', 'shocking', 'approaches', 'events', 'whirlwind', 'shweta', 'adversaries', 'delivering', 'skeptical', 'anasuya', 'rajesh', 'daughter', 'confronts', 'final', 'turmoil', 'ravikanth', 'corner', 'finest', 'dangerous', 'help', 'convincingly', 'uncovers', 'keep', 'tight', 'bystander', 'transforms', 'would', 'rishi', 'investigator', 'sacrifice', 'ride', 'turns', 'thrillers', 'at', 'missing', 'adah', 'satyam', 'investigation', 'bharadwaj', 'perepu', 'one', 'mission', 'brilliance', 'life', 'roles', 'he', 'moral', 'consequences', 'chandra', 'executed', 'emotional', 'prakash', 'raj', 'offers', 'finding', 'roller', 'coaster', 'realistic', 'mysterious', 'long', 'roll', 'revelations', 'restaurant', 'mysteries', 'menen', 'daring', 'different', 'after', 'enigmatic', 'engaging', 'narratives', 'single', 'disturbed', 'intrigue', 'taken', 'audacious', 'unravel', 'surreal', 'supernatural', 'viewer', 'approach', 'psychological', 'others', 'individuals', 'kajal', 'stories', 'converge', 'persona', 'various', 'blends', 'interconnected', 'intertwine', 'credits', 'nithya', 'aggarwal', 'awe', 'hilarious', 'music', 'you', 'end', 'deception', 'very', 'embroiled', 'who', 'delightful', 'role', 'thrilling', 'as', 'genres', 'off', 'powerful', 'laughter', 'appeal', 'all', 'many', 'mystery', 'made', 'protagonist', 'time', 'it', 'making', 'understanding', 'bhaskar', 'overall', 'friends', 'gripping', 'dramatic', 'which', 'brilliant', 'drishyam', 'wife', 'cable', 'structure', 'daggubati', 'battle', 'class', 'wits', 'suspects', 'seemingly', 'disappearance', 'themselves', 'son', 'moidu', 'intriguing', 'joseph', 'nadia', 'rambabu', 'limits', 'morality', 'prime', 'person', 'meena', 'jeethu', 'pushed', 'powerhouse', 'ordinary', 'jyothi', 'outwits', 'middle', 'find', 'operator', 'screenplay', 'stakes', 'performance', 'tension', 'drama', 'man', 'impact', 'makes', 'stand', 'out', 'pursuing', 'wide', 'lives', 'dynamics', 'gradually', 'deliver', 'humor', 'expertly', 'case', 'carefree', 'storytelling', 'ensemble', 'relationships', 'thriller', 'contribute', 'with', 'cast', 'intelligent', 'situational', 'moments', 'when', 'vikram', 'faced', 'follows', 'relationship', 'into', 'abilities', 'strengths', 'housefly', 'sudeep', 'newfound', 'premise', 'technical', 'eega', 'voice', 'visual', 'titular', 'villain', 'antagonist', 'uses', 'garnered', 'outsmart', 'revenge', 'driving', 'effects', 'reincarnated', 'creative', 'seeks', 'fly', 'nani', 'like', 'telugu', 'remarkable', 'add', 'movie', 'actors', 'drawn', 'create', 'abhishek', 'unwittingly', 'think', 'taut', 'relies', 'predicaments', 'development', 'kidnapping', 'sekhar', 'key', 'playing', 'group', 'vardhan', 'operation', 'yeleti', 'intricacies', 'empathize', 'involving', 'harsha', 'dilemmas', 'aithe', 'maintaining', 'rane', 'loyalty', 'focus', 'greed', 'activities', 'elements', 'creativity', 'innovative', 'innovation', 'features', 'unique', 'seamlessly', 'comedy', 'to', 'the', 'performances', 'protect', 'venkatesh', 'not', 'father', 'just', 'portrayed', 'potential', 'audience', 'cinema', 'classic', 'ability', 'interactions', 'way', 'suspenseful', 'summary', 'becomes', 'take', 'screen', 'parenting', 'appealing', 'beloved', 'spirited', 'believable', 'dream', 'child', 'emotions', 'narayan', 'souza', 'overbearing', 'universally', 'patriarch', 'partner', 'genelia', 'rooted', 'freedom', 'overprotective', 'parent', 'audiences', 'desire', 'control', 'independence', 'siddharth', 'share', 'resonated', 'meets', 'respecting', 'siddu', 'ages', 'identify', 'everyday', 'can', 'portraying', 'complexities', 'but', 'smothered', 'individuality', 'heartfelt', 'continues', 'hasini', 'fantastic', 'bommarillu', 'free', 'filled', 'lengths', 'ones', 'loved', 'go', 'masterfully', 'agency', 'lead', 'navigating', 'yarlagadda', 'line', 'operations', 'effectively', 'kiran', 'sobhita', 'goodachari', 'complex', 'conveys', 'genre', 'spy', 'covert', 'recruit', 'skill', 'quality', 'dhulipala', 'espionage', 'diverse', 'seasoned', 'duty', 'eager', 'sashi', 'gopi', 'starring', 'sacrifices', 'indian', 'aspires', 'assigned', 'joins', 'become', 'tells', 'perilous', 'trust', 'supriya', 'tikka', 'intelligence', 'personal', 'about', 'combines', 'revelation', 'exploring', 'between', 'including', 'providing', 'girlfriend', 'deeper', 'from', 'takes', 'revolves', 'family', 'corrupt', 'contemporary', 'delves', 'are', 'fantasy', 'him']\n",
            "Top terms for component 3: ['takes', 'understanding', 'bhaskar', 'relationships', 'situations', 'when', 'his', 'has', 'relationship', 'love', 'turn', 'him', 'pursuit', 'portrayal', 'witty', 'girlfriend', 'deeper', 'away', 'gritty', 'doesn', 'realities', 'showcasing', 'shy', 'abhiram', 'marriage', 'nagarjuna', 'test', 'disdain', 'aversion', 'arranging', 'deter', 'tanikella', 'series', 'manmadhudu', 'tumultuous', 'misunderstandings', 'parents', 'laughing', 'balances', 'bharani', 'sharp', 'romance', 'change', 'sonali', 'songs', 'charm', 'start', 'pose', 'stood', 'bendre', 'comic', 'successful', 'due', 'commitment', 'presence', 'timing', 'vijaya', 'exceptionally', 'impeccable', 'hires', 'feelings', 'ensues', 'harika', 'akkineni', 'emotion', 'giving', 'justice', 'women', 'gautam', 'navdeep', 'criminals', 'notable', 'built', 'obsession', 'those', 'atmosphere', 'palpable', 'convincing', 'vishnu', 'human', 'sense', 'engrossed', 'seek', 'catch', 'preys', 'procedures', 'subject', 'grim', 'explore', 'revathi', 'psyche', 'solving', 'races', 'ram', 'world', 'willingness', 'gopal', 'tasked', 'darkest', 'unwavering', 'depravity', 'depths', 'elusive', 'investigations', 'leave', 'leading', 'layer', 'matter', 'anukshanam', 'urgency', 'killers', 'another', 'killer', 'keeping', 'manchu', 'serial', 'dedication', 'aspects', 'meticulous', 'appeal', 'relentless', 'charismatic', 'humor', 'varma', 'case', 'expertly', 'capturing', 'comical', 'brahmanandam', 'perfect', 'intense', 'add', 'coaster', 'finding', 'roller', 'also', 'make', 'performances', 'character', 'music', 'engaged', 'family', 'determination', 'what', 'for', 'are', 'contribute', 'stellar', 'clever', 'one', 'prakash', 'raj', 'comedy', 'he', 'just', 'portrayed', 'not', 'father', 'out', 'stand', 'makes', 'of', 'memorable', 'independence', 'screen', 'identify', 'heartfelt', 'continues', 'patriarch', 'individuality', 'dream', 'rooted', 'can', 'control', 'but', 'everyday', 'emotions', 'portraying', 'hasini', 'overbearing', 'respecting', 'parenting', 'resonated', 'free', 'parent', 'freedom', 'narayan', 'meets', 'genelia', 'child', 'desire', 'overprotective', 'partner', 'complexities', 'fantastic', 'siddharth', 'believable', 'audiences', 'spirited', 'souza', 'appealing', 'universally', 'smothered', 'bommarillu', 'ages', 'siddu', 'beloved', 'share', 'making', 'suspenseful', 'liners', 'value', 'classic', 'the', 'hilarious', 'audience', 'experience', 'gradually', 'film', 'laughter', 'realistic', 'sets', 'apart', 'cinematic', 'will', 'deliver', 'delightful', 'well', 'police', 'dynamics', 'storytelling', 'offers', 'against', 'themes', 'watch', 'contemporary', 'performance', 'screenplay', 'businessman', 'way', 'thriller', 'entertainment', 'each', 'filled', 'blend', 'crime', 'gopichand', 'potharaju', 'power', 'haasan', 'contributes', 'notorious', 'policing', 'appeals', 'methods', 'depicting', 'agility', 'enforcement', 'vigilantism', 'inspector', 'emotionally', 'gangster', 'embodying', 'veera', 'katari', 'varalaxmi', 'unyielding', 'krack', 'law', 'unorthodox', 'lines', 'wrong', 'aggressive', 'harsh', 'malineni', 'krishna', 'shankar', 'blurred', 'recent', 'sarathkumar', 'shruti', 'charged', 'samuthirakani', 'charisma', 'raw', 'centers', 'actor', 'emotional', 'executed', 'situational', 'overall', 'seat', 'edge', 'major', 'to', 'challenges', 'ability', 'off', 'powerful', 'from', 'your', 'revelation', 'where', 'adversaries', 'corner', 'ride', 'rishi', 'help', 'investigation', 'ravikanth', 'thrillers', 'keep', 'skeptical', 'anasuya', 'bharadwaj', 'at', 'convincingly', 'sacrifice', 'perepu', 'delivering', 'satyam', 'ex', 'missing', 'transforms', 'approaches', 'final', 'finest', 'turmoil', 'shines', 'would', 'shocking', 'adah', 'bystander', 'additionally', 'kshanam', 'daughter', 'turns', 'uncovers', 'whirlwind', 'confronts', 'every', 'dangerous', 'events', 'shweta', 'rajesh', 'investigator', 'tight', 'life', 'bring', 'explores', 'on', 'between', 'teja', 'tough', 'ravi', 'they', 'conventions', 'traditional', 'endearing', 'importance', 'be', 'other', 'choices', 'chemistry', 'its', 'regina', 'lingers', 'norms', 'mind', 'cassandra', 'officer', 'packed', 'unique', 'narrative', 'masterfully', 'ones', 'loved', 'go', 'lengths', 'tension', 'ensemble', 'innovative', 'innovation', 'creativity', 'features', 'as', 'prasanth', 'in', 'moments', 'feel', 'celebrates', 'adults', 'aspirations', 'good', 'essence', 'sesh', 'production', 'adivi', 'cinematography', 'values', 'mission', 'dreams', 'unfolds', 'crafted', 'sharma', 'man', 'tharun', 'dhaassyam', 'bhascker', 'aggarwal', 'single', 'converge', 'audacious', 'enigmatic', 'intertwine', 'restaurant', 'unravel', 'different', 'kajal', 'blends', 'revelations', 'engaging', 'interconnected', 'viewer', 'nithya', 'menen', 'disturbed', 'individuals', 'after', 'persona', 'narratives', 'various', 'stories', 'psychological', 'surreal', 'awe', 'others', 'intrigue', 'approach', 'mysterious', 'roll', 'mysteries', 'daring', 'taken', 'credits', 'long', 'supernatural', 'many', 'all', 'viewing', 'own', 'together', 'commercial', 'critical', 'success', 'acclaim', 'throughout', 'fantasy', 'authenticity', 'skill', 'effectively', 'intelligence', 'covert', 'indian', 'seasoned', 'complex', 'goodachari', 'gopi', 'starring', 'espionage', 'genre', 'personal', 'become', 'conveys', 'perilous', 'sashi', 'eager', 'tells', 'sacrifices', 'agency', 'supriya', 'joins', 'spy', 'lead', 'navigating', 'line', 'sobhita', 'kiran', 'tikka', 'quality', 'diverse', 'assigned', 'aspires', 'yarlagadda', 'dhulipala', 'recruit', 'trust', 'operations', 'duty', 'about', 'brilliance', 'friends', 'highlight', 'testament', 'gripping', 'like', 'protect', 'cast', 'that', 'yet', 'developed', 'heartwarming', 'wave', 'chef', 'hearted', 'light', 'pursue', 'choopulu', 'meeting', 'devarakonda', 'spend', 'resonates', 'career', 'goals', 'balanced', 'defies', 'became', 'decide', 'understand', 'aspiring', 'however', 'gathering', 'struggles', 'this', 'couple', 'introspection', 'introduces', 'during', 'begin', 'ambitious', 'driven', 'ritu', 'received', 'following', 'chitra', 'ambitions', 'encourages', 'passions', 'easygoing', 'pretend', 'vijay', 'pelli', 'paving', 'new', 'india', 'us', 'charming', 'accidental', 'predominantly', 'best', 'favorite', 'primarily', 'combining', 'cleanse', 'getting', 'storyline', 'caters', 'dance', 'kumar', 'mahesh', 'knack', 'vaitla', 'dookudu', 'dose', 'noteworthy', 'adrenaline', 'srinu', 'among', 'levity', 'amidst', 'package', 'incorporates', 'energetic', 'ajay', 'humorous', 'highly', 'entertainer', 'entertaining', 'system', 'politicians', 'intelligent', 'moral', 'consequences', 'chandra', 'delves', 'directed', 'faced', 'exploration', 'mystery', 'abhinav', 'youth', 'ee', 'enhancing', 'capture', 'captures', 'road', 'resorting', 'refreshing', 'reddy', 'quirks', 'possibilities', 'portrays', 'people', 'navigate', 'nagaraniki', 'lighthearted', 'laughs', 'direction', 'embark', 'emaindi', 'kaushik', 'karthik', 'kakumanu', 'camaraderie', 'sen', 'ensures', 'trip', 'without', 'adulthood', 'adventure', 'wedding', 'vivek', 'four', 'experiences', 'vishwak', 'upendra', 'genuine', 'goa', 'gomatam', 'transition', 'sushanth', 'before', 'spirit', 'soundtrack', 'grounded', 'slapstick', 'buddy', 'joy', 'friendship', 'heart', 'octane', 'fans', 'depth', 'high', 'providing', 'guessing', 'until', 'maintained', 'while', 'actions', 'accused', 'perceptions', 'naveen', 'manner', 'equally', 'enthusiasts', 'slowly', 'shades', 'plays', 'multiple', 'murali', 'murder', 'enhance', 'satisfying', 'cop', 'sameera', 'husband', 'conventional', 'impressive', 'ramji', 'creating', 'question', 'puzzle', 'complexity', 'provides', 'comes', 'progresses', 'non', 'perspectives', 'intricate', 'killing', 'kept', 'vasudev', 'undergoes', 'truth', 'genuinely', 'web', 'evaru', 'lies', 'venkat', 'timelines', 'ambiguity', 'linear', 'weaves', 'gray', 'surprising', 'judgments', 'combines', 'an', 'secrets', 'benefits', 'young', 'journey', 'carefree', 'with', 'nani', 'fly', 'premise', 'visual', 'voice', 'sudeep', 'garnered', 'villain', 'reincarnated', 'revenge', 'strengths', 'antagonist', 'seeks', 'titular', 'technical', 'uses', 'eega', 'housefly', 'outsmart', 'driving', 'effects', 'newfound', 'creative', 'abilities', 'stars', 'played', 'standout', 'it', 'keeps', 'both', 'create', 'by', 'seamlessly', 'ruthless', 'rajamouli', 'vikram', 'babu', 'who', 'determined', 'suspense', 'revolves', 'around', 'known', 'unwittingly', 'sekhar', 'taut', 'think', 'harsha', 'greed', 'loyalty', 'playing', 'development', 'intricacies', 'maintaining', 'dilemmas', 'group', 'empathize', 'yeleti', 'relies', 'kidnapping', 'predicaments', 'involving', 'focus', 'aithe', 'vardhan', 'operation', 'key', 'rane', 'activities', 'abhishek', 'thrilling', 'role', 'remarkable', 'roles', 'is', 'drawn', 'actors', 'viewers', 'supporting', 'you', 'follows', 'telugu', 'sequences', 'corrupt', 'their', 'criminal', 'summary', 'time', 'her', 'right', 'strong', 'adding', 'lives', 'protagonist', 'made', 'take', 'plot', 'adds', 'joseph', 'wits', 'nadia', 'jeethu', 'daggubati', 'find', 'ordinary', 'wife', 'son', 'disappearance', 'themselves', 'pushed', 'dramatic', 'rambabu', 'jyothi', 'which', 'operator', 'intriguing', 'class', 'powerhouse', 'drishyam', 'battle', 'middle', 'structure', 'person', 'outwits', 'prime', 'brilliant', 'moidu', 'morality', 'suspects', 'seemingly', 'cable', 'meena', 'limits', 'stakes', 'deception', 'very', 'embroiled', 'end', 'bringing', 'genres', 'interactions', 'must', 'twists', 'unexpected', 'transformation', 'layers', 'story', 'and', 'relatable', 'elements', 'characters', 'delivers', 'drama', 'impact', 'movie', 'pursuing', 'wide', 'face', 'dual', 'small', 'influential', 'trying', 'sincere', 'showcases', 'thief', 'athili', 'sathi', 'intertwining', 'catchy', 'dialogues', 'rathod', 'perseverance', 'versatility', 'choreographed', 'vikramarkudu', 'precision', 'into', 'action', 'cinema', 'compelling', 'potential', 'venkatesh', 'including', 'exploring', 'becomes', 'woman']\n"
          ]
        }
      ]
    },
    {
      "cell_type": "code",
      "source": [
        "# Top 3 terms as a whole are :-\n",
        "term_frequency ={}\n",
        "for x in terms_list:\n",
        "  if x not in term_frequency :\n",
        "    term_frequency[x] =1\n",
        "  else:\n",
        "    term_frequency[x]+=1\n"
      ],
      "metadata": {
        "id": "0E6iNiEcCJkt"
      },
      "execution_count": 50,
      "outputs": []
    },
    {
      "cell_type": "code",
      "source": [
        "reverse_dict = dict(sorted(term_frequency.items(), key=lambda item: item[1], reverse=True))"
      ],
      "metadata": {
        "id": "xT42GNg_DVtX"
      },
      "execution_count": 51,
      "outputs": []
    },
    {
      "cell_type": "code",
      "source": [
        "cache=[]\n",
        "for x in reverse_dict:\n",
        "  cache.append(x)\n",
        "\n",
        "print(\"the top most 3 terms all over the data are :-\")\n",
        "for i in range(0,3):\n",
        "  print(cache[i])"
      ],
      "metadata": {
        "colab": {
          "base_uri": "https://localhost:8080/"
        },
        "id": "EUy207dEDn3U",
        "outputId": "13f4540d-964e-45fd-f699-8db31f948d1e"
      },
      "execution_count": 52,
      "outputs": [
        {
          "output_type": "stream",
          "name": "stdout",
          "text": [
            "the top most 3 terms all over the data are :-\n",
            "abhinav\n",
            "abhiram\n",
            "abhishek\n"
          ]
        }
      ]
    },
    {
      "cell_type": "markdown",
      "source": [
        "### Interpretation of top k terms associated with each component:-  \n",
        "After exploring the terms I feel these terms appear to be related to movie reviews or descriptions of movies. Component 1 seems to emphasize themes related to suspense, thrillers, and the complexities of human actions and choices in movies. Component 2 focuses on character-driven narratives, relationships, and exploration of human aspirations and dreams. Component 3 seems to revolve around the portrayal of characters in movies and the dynamics of relationships and realistic situations.\n",
        "\n",
        "Finally These components are capturing various aspects of movie content and themes.\n",
        "\n",
        "This is expected as according to my argument k=3 will capture most of the explained variance ratio ."
      ],
      "metadata": {
        "id": "dRELBeinTEr3"
      }
    },
    {
      "cell_type": "markdown",
      "source": [
        "## Task-5 (PCA vs TSNE)"
      ],
      "metadata": {
        "id": "nai7HwfltLqW"
      }
    },
    {
      "cell_type": "code",
      "source": [
        "pca = PCA(n_components=2)\n",
        "pca_extraction = pca.fit_transform(X_standardized_array) #extracted 2 components of pca"
      ],
      "metadata": {
        "id": "T-HUzcGKU6xT"
      },
      "execution_count": 53,
      "outputs": []
    },
    {
      "cell_type": "code",
      "source": [
        "labels =['red', 'green', 'blue'] * 5   #labels are set as colors. # selected 3 because it has 3 categories of moves are selcted."
      ],
      "metadata": {
        "id": "2QVdFCaTU89l"
      },
      "execution_count": 54,
      "outputs": []
    },
    {
      "cell_type": "code",
      "source": [
        "for i, color in enumerate(labels):\n",
        "    plt.scatter(pca_extraction[i, 0], pca_extraction[i, 1], color=color) #here by use of kmeans clustering we can get which points belongs to one cluster as our data doesn't has any labels and kmeans is\n",
        "plt.title('Scatter plot of pca projections in pca 1 vs pca2') #prohibitted just in order I arranged them as one color or one group.\n",
        "plt.xlabel('Component 1')\n",
        "plt.ylabel('Component 2')\n"
      ],
      "metadata": {
        "colab": {
          "base_uri": "https://localhost:8080/",
          "height": 489
        },
        "id": "nS0S7e5gVWAc",
        "outputId": "9b2e0e1d-6807-4b1e-8539-7658fadad2e6"
      },
      "execution_count": 55,
      "outputs": [
        {
          "output_type": "execute_result",
          "data": {
            "text/plain": [
              "Text(0, 0.5, 'Component 2')"
            ]
          },
          "metadata": {},
          "execution_count": 55
        },
        {
          "output_type": "display_data",
          "data": {
            "text/plain": [
              "<Figure size 640x480 with 1 Axes>"
            ],
            "image/png": "[encoded data removed]"
          },
          "metadata": {}
        }
      ]
    },
    {
      "cell_type": "code",
      "source": [
        "from sklearn.manifold import TSNE\n",
        "tsne = TSNE(n_components=2, perplexity=7) #default perplixit=30 must not be used as dataset is very less  and only 7 is used can use in range between (5,30) it basically adjust cluster shape.\n",
        "tsne_extraction = tsne.fit_transform(X_standardized_array)"
      ],
      "metadata": {
        "id": "NsztjYAEVpng"
      },
      "execution_count": 56,
      "outputs": []
    },
    {
      "cell_type": "code",
      "source": [
        "labels =['red', 'green', 'blue'] * 5   #as 3 categroies of movies are selected only having 3 labels."
      ],
      "metadata": {
        "id": "Hq2uGV2tV4h7"
      },
      "execution_count": 57,
      "outputs": []
    },
    {
      "cell_type": "code",
      "source": [
        "for i, color in enumerate(labels):\n",
        "    plt.scatter(tsne_extraction[i, 0], tsne_extraction[i, 1], color=color) #segrigatingbased on above.\n",
        "plt.title('Scatter plot of TSNE projections in component 1 vs component2')\n",
        "plt.xlabel('Component 1')\n",
        "plt.ylabel('Component 2')"
      ],
      "metadata": {
        "colab": {
          "base_uri": "https://localhost:8080/",
          "height": 489
        },
        "id": "pzfb8Uv0V72p",
        "outputId": "44a7465e-d339-423e-a632-f7d687c7de46"
      },
      "execution_count": 58,
      "outputs": [
        {
          "output_type": "execute_result",
          "data": {
            "text/plain": [
              "Text(0, 0.5, 'Component 2')"
            ]
          },
          "metadata": {},
          "execution_count": 58
        },
        {
          "output_type": "display_data",
          "data": {
            "text/plain": [
              "<Figure size 640x480 with 1 Axes>"
            ],
            "image/png": "[encoded data removed]"
          },
          "metadata": {}
        }
      ]
    },
    {
      "cell_type": "markdown",
      "source": [
        "## Analyzing the difference in 2 plots:\n",
        "Firstly TSNE scatter plot appears to be better suited for understanding relationships of points because if you see the TSNE scatter plot. All points having similar relationship are almost clustered together. When you see PCA scatter plot as it preserves variance not similarity it lags behind in visualizing complex high dimensional data that has patterns or relationships among them. Also if you carefully observe the plot of pca you can draw 2 eigen vectors in x shape which are nothing but pca components and they pass almost in the centre of all points. But in TSNE as the shape is not linear somewhat flatted sphere we can conclude the fact that it is non linear dimensionality reduction technique."
      ],
      "metadata": {
        "id": "EaM9YR8wX8gw"
      }
    },
    {
      "cell_type": "code",
      "source": [],
      "metadata": {
        "id": "6pLj7V4hTtK-"
      },
      "execution_count": 58,
      "outputs": []
    }
  ]
}